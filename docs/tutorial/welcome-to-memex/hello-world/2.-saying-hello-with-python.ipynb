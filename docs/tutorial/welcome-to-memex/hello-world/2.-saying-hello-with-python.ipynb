{
 "cells": [
  {
   "cell_type": "markdown",
   "id": "4b653966",
   "metadata": {},
   "source": [
    "# 🚀 2. Saying hello with Python\n",
    "\n",
    "_Click on the button bellow to open this tutorial as an executable notebook_\n",
    "\n",
    "[![Open In Colab](https://colab.research.google.com/assets/colab-badge.svg)](https://colab.research.google.com/github/atlasfutures/memex-sample-public/blob/main/docs/tutorial/welcome-to-memex/hello-world/2.-saying-hello-with-python.ipynb)\n",
    "\n",
    "***\n",
    "\n",
    "## Hello World with **the Memex API**\n",
    "\n",
    "#### **Install Memex package**"
   ]
  },
  {
   "cell_type": "code",
   "execution_count": null,
   "id": "f20f9a8f",
   "metadata": {},
   "outputs": [],
   "source": [
    "!pip install -q memexdata"
   ]
  },
  {
   "cell_type": "markdown",
   "id": "e8bda9d4",
   "metadata": {},
   "source": [
    "#### Set your instance and API information\n",
    "\n",
    "First, set the variables for your Memex account:\n",
    "\n",
    "* `MEMEX_INSTANCE_URL`: The URL to your instance.\n",
    "* `MEMEX_API_KEY`: You can find it under your profile bubble at the top right corner of the Memex UI after you log-in."
   ]
  },
  {
   "cell_type": "code",
   "execution_count": null,
   "id": "845ebd81",
   "metadata": {},
   "outputs": [],
   "source": [
    "MEMEX_INSTANCE_URL= \"https://[YOUR_INSTANCE].memexdata.com\"\n",
    "MEMEX_API_KEY = [YOUR_API_KEY]"
   ]
  },
  {
   "cell_type": "markdown",
   "id": "bd767fad",
   "metadata": {},
   "source": [
    "#### Connect to Memex"
   ]
  },
  {
   "cell_type": "code",
   "execution_count": null,
   "id": "838f1f48",
   "metadata": {},
   "outputs": [],
   "source": [
    "from memex import MemexSession\n",
    "mx = MemexSession(MEMEX_INSTANCE_URL, api_key=MEMEX_API_KEY)"
   ]
  },
  {
   "cell_type": "markdown",
   "id": "95f5d1fc",
   "metadata": {},
   "source": [
    "Anything we create or save via the API will also be reflected in the [Memex UI](https://{instance}.memexdata.com/)\n",
    "\n",
    "### Datasets\n",
    "\n",
    "List available datasets"
   ]
  },
  {
   "cell_type": "code",
   "execution_count": null,
   "id": "e79b6c5e",
   "metadata": {},
   "outputs": [],
   "source": [
    "mx.list_datasets()"
   ]
  },
  {
   "cell_type": "markdown",
   "id": "59497a53",
   "metadata": {},
   "source": [
    "(If you haven't already, upload the `ancient_civilizations` table to your Memex instance by [following the instructions here](1.-hello-new-world.md#id-1.-upload-some-data)[)](https://memex-1.gitbook.io/alphadocs/welcome-to-memex/hello-world/1.-hello-new-world#id-1.-upload-some-data)\n",
    "\n",
    "Run a query against a dataset"
   ]
  },
  {
   "cell_type": "code",
   "execution_count": null,
   "id": "7cc0cce9",
   "metadata": {},
   "outputs": [],
   "source": [
    "mx.query('SELECT * FROM ancient_civilizations LIMIT 10')"
   ]
  },
  {
   "cell_type": "markdown",
   "id": "4c4c4c75",
   "metadata": {},
   "source": [
    "## UDFs\n",
    "\n",
    "Memex allow you to combine SQL queries with UDFs (User Defined Functions). UDFs can be written in Python or in natural language!\n",
    "\n",
    "### Python UDF\n",
    "\n",
    "Here is a simple example a Python function to check if two words are anagrams."
   ]
  },
  {
   "cell_type": "code",
   "execution_count": null,
   "id": "706ab900",
   "metadata": {},
   "outputs": [],
   "source": [
    "def is_anagram(word1, word2):\n",
    "    return sorted(word1) == sorted(word2)`"
   ]
  },
  {
   "cell_type": "markdown",
   "id": "722fa173",
   "metadata": {},
   "source": [
    "Let’s test it on an example"
   ]
  },
  {
   "cell_type": "code",
   "execution_count": null,
   "id": "2153501d",
   "metadata": {},
   "outputs": [],
   "source": [
    "is_anagram('elvis', 'lives')"
   ]
  },
  {
   "cell_type": "markdown",
   "id": "a1b54ecb",
   "metadata": {},
   "source": [
    "We get back `True`. Let’s run another test:"
   ]
  },
  {
   "cell_type": "code",
   "execution_count": null,
   "id": "6f8d22ee",
   "metadata": {},
   "outputs": [],
   "source": [
    "is_anagram('elvis', 'dead')"
   ]
  },
  {
   "cell_type": "markdown",
   "id": "b849bf56",
   "metadata": {},
   "source": [
    "We get `False`.\n",
    "\n",
    "To make this function available to Memex, we just need to annotate it with the `@mx.udf` decorator"
   ]
  },
  {
   "cell_type": "code",
   "execution_count": null,
   "id": "b276b671",
   "metadata": {},
   "outputs": [],
   "source": [
    "\n",
    "@mx.udf\n",
    "def is_anagram(word1: str, word2: str) -> bool:\n",
    "    return sorted(word1) == sorted(word2)\n",
    "\n",
    "# Note: the type annotations are required"
   ]
  },
  {
   "cell_type": "markdown",
   "id": "d7a817ba",
   "metadata": {},
   "source": [
    "Now we can use this function in a SQL query in Memex.\n",
    "\n",
    "We can call it with the following syntax with a SQL query:"
   ]
  },
  {
   "cell_type": "code",
   "execution_count": null,
   "id": "8ae9220d",
   "metadata": {},
   "outputs": [],
   "source": [
    "mx.query(\"SELECT is_anagram('elvis', 'lives')\")"
   ]
  },
  {
   "cell_type": "code",
   "execution_count": null,
   "id": "80a07e8b",
   "metadata": {},
   "outputs": [],
   "source": [
    "from IPython.display import Markdown as md\n",
    "\n",
    "md(\n",
    "    \"💡 **Note:** Once the function is defined, it is automatically available in Memex and you can use it in any SQL query in the [Memex UI]({}) as well.\".format(\n",
    "        MEMEX_INSTANCE_URL\n",
    "    )\n",
    ")"
   ]
  },
  {
   "cell_type": "markdown",
   "id": "84a87825",
   "metadata": {},
   "source": [
    "### Natural Language UDF\n",
    "\n",
    "Memex also allows you to define UDFs using just natural language. To do that, you define a Python function with a docstring that contains the prompt for the LLM (Large Language Model) and annotate it with the `@mx.prompt` decorator."
   ]
  },
  {
   "cell_type": "code",
   "execution_count": null,
   "id": "acaf6a99",
   "metadata": {},
   "outputs": [],
   "source": [
    "@mx.prompt\n",
    "def generate_anagram(n:int) -> str:\n",
    "    \"\"\"Generate {n} pair of anagrams.\"\"\""
   ]
  },
  {
   "cell_type": "markdown",
   "id": "4943a70f",
   "metadata": {},
   "source": [
    "Which can then be called within a SQL query:"
   ]
  },
  {
   "cell_type": "code",
   "execution_count": null,
   "id": "c9ef6e7b",
   "metadata": {},
   "outputs": [],
   "source": [
    "mx.query(\"SELECT generate_anagram(5)\")"
   ]
  },
  {
   "cell_type": "markdown",
   "id": "80b68783",
   "metadata": {},
   "source": [
    "This query would return something like this:\n",
    "\n",
    "<table data-full-width=\"false\"><thead><tr><th width=\"196\"></th><th>generate_anagram(5)</th></tr></thead><tbody><tr><td>0</td><td>1. laps - pals\\n2. store - roset\\n3. listen - ...</td></tr></tbody></table>\n",
    "\n",
    "Behind the scene this translates to a call to a LLM with a given prompt. The prompt (or prompt template), defined in the Python docstring of the function, and the function parameters are evaluated with the prompt to generate the final prompt for the LLM.\n",
    "\n",
    "We can do a bit of post-processing to get a list of rows in table structure"
   ]
  },
  {
   "cell_type": "code",
   "execution_count": null,
   "id": "560ea766",
   "metadata": {},
   "outputs": [],
   "source": [
    "mx.query(\"SELECT unnest(split(generate_anagram(5), '\\\\n')) as anagram\")"
   ]
  },
  {
   "cell_type": "markdown",
   "id": "d8b60b3c",
   "metadata": {},
   "source": [
    "Which returns something like this\n",
    "\n",
    "<table><thead><tr><th width=\"76\"></th><th width=\"194\">anagram</th></tr></thead><tbody><tr><td>0</td><td>1. laps -pals</td></tr><tr><td>1</td><td>2. store - roset</td></tr><tr><td>2</td><td>3. listen - silent</td></tr><tr><td>3</td><td>4. evil - live</td></tr><tr><td>4</td><td>5. heart - earth</td></tr></tbody></table>\n",
    "\n",
    "Within the function call we can specify the use a different LLM model, change the temperature, max\\_tokens, etc. By default, `gpt-3.5-turbo` is used."
   ]
  },
  {
   "cell_type": "code",
   "execution_count": null,
   "id": "811aa454",
   "metadata": {},
   "outputs": [],
   "source": [
    "mx.query(\"SELECT unnest(split(generate_anagram(5), '\\\\n')) as anagram\",\n",
    " model='gpt-4', temperature=0.2, max_tokens=256)"
   ]
  },
  {
   "cell_type": "markdown",
   "id": "6a2a3ac6",
   "metadata": {},
   "source": [
    "Now that we’ve gone through a simple example, let's try a more complex one"
   ]
  },
  {
   "cell_type": "code",
   "execution_count": null,
   "id": "9756b7ac",
   "metadata": {},
   "outputs": [],
   "source": [
    "@mx.prompt\n",
    "def ancient_civilization(n:int) -> str:\n",
    "    \"\"\"Give me {n} names of random ancient civilizations.\n",
    "     Provide just the canonical name, and exclude qualifiers like\n",
    "     \"civilization\", \"empire\", etc. FORMAT the data as a COMMA DELIMITED LIST,\n",
    "     like: civ1, civ2, civ3, ...\"\"\""
   ]
  },
  {
   "cell_type": "code",
   "execution_count": null,
   "id": "29273396",
   "metadata": {},
   "outputs": [],
   "source": [
    "mx.query(\"SELECT unnest(split(ancient_civilization(5), ',')) as civilization\")"
   ]
  },
  {
   "cell_type": "markdown",
   "id": "5ab1d5d1",
   "metadata": {},
   "source": [
    "Which returns a table that should look like this:\n",
    "\n",
    "<table><thead><tr><th width=\"100\"></th><th width=\"196\">civilization</th></tr></thead><tbody><tr><td>0</td><td>Egypt</td></tr><tr><td>1</td><td>Mesopotamia</td></tr><tr><td>2</td><td>Maya</td></tr><tr><td>3</td><td>Indus Valley</td></tr><tr><td>4</td><td>Zhou Dynasty</td></tr></tbody></table>\n",
    "\n",
    "Now we can save the results of this query as a new table in Memex using the `save_as_table` command"
   ]
  },
  {
   "cell_type": "code",
   "execution_count": null,
   "id": "e15607d2",
   "metadata": {},
   "outputs": [],
   "source": [
    "mx.save_as_table(\"ancient_civilizations\", \n",
    "                 \"SELECT unnest(split(ancient_civilization(20), ',')) as civilization\", overwrite**=True**)"
   ]
  },
  {
   "cell_type": "code",
   "execution_count": null,
   "id": "9e6ce8fc",
   "metadata": {},
   "outputs": [],
   "source": [
    "md(\n",
    "    \"\"\"You can now go to the [Memex UI]({}) and see this new table.\n",
    "   \n",
    "   You’ve said Hello World with the Memex API!\n",
    "\"\"\".format(\n",
    "        MEMEX_INSTANCE_URL\n",
    "    )\n",
    ")"
   ]
  },
  {
   "cell_type": "markdown",
   "id": "aa19c088",
   "metadata": {},
   "source": [
    "You’ve said Hello World with the Memex API!\n",
    "\n",
    "***\n",
    "\n",
    "By now you might be thinking “this was pretty simple, let’s go have some more fun”. We got you covered with more walkthroughs below in the [How are you World?](3.-how-are-you-world.md) page\n",
    "\n",
    "{% content-ref url=\"3.-how-are-you-world.md\" %}\n",
    "[3.-how-are-you-world.md](3.-how-are-you-world.md)\n",
    "{% endcontent-ref %}"
   ]
  }
 ],
 "metadata": {
  "jupytext": {
   "cell_metadata_filter": "-all",
   "main_language": "python",
   "notebook_metadata_filter": "-all"
  }
 },
 "nbformat": 4,
 "nbformat_minor": 5
}
