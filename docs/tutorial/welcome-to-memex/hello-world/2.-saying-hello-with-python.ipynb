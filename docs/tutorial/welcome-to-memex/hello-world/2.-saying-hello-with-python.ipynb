{
 "cells": [
  {
   "cell_type": "markdown",
   "metadata": {},
   "source": [
    "# Hello World with **the Memex API**\n"
   ]
  },
  {
   "cell_type": "markdown",
   "metadata": {},
   "source": [
    "### Install Memex package\n"
   ]
  },
  {
   "cell_type": "code",
   "execution_count": null,
   "metadata": {},
   "outputs": [],
   "source": [
    "!pip install -q memexdata"
   ]
  },
  {
   "cell_type": "markdown",
   "metadata": {},
   "source": [
    "#### Set your instance and API information\n",
    "\n",
    "First, set the variables for your Memex account:\n",
    "\n",
    "- `MEMEX_INSTANCE_URL`: The URL to your instance.\n",
    "- `MEMEX_API_KEY`: You can find it under your profile bubble at the top right corner of the Memex UI after you log-in.\n"
   ]
  },
  {
   "cell_type": "code",
   "execution_count": null,
   "metadata": {},
   "outputs": [],
   "source": [
    "MEMEX_INSTANCE_URL = \"https://[YOUR_INSTANCE].memexdata.com\"\n",
    "MEMEX_API_KEY = [YOUR_API_KEY]"
   ]
  },
  {
   "cell_type": "markdown",
   "metadata": {},
   "source": [
    "#### Connect to Memex\n"
   ]
  },
  {
   "cell_type": "code",
   "execution_count": null,
   "metadata": {},
   "outputs": [],
   "source": [
    "from memex import MemexSession\n",
    "\n",
    "mx = MemexSession(MEMEX_INSTANCE_URL, api_key=MEMEX_API_KEY)"
   ]
  },
  {
   "cell_type": "markdown",
   "metadata": {},
   "source": [
    "Anything we create or save via the API will also be reflected in the [Memex UI](https://[YOUR_INSTANCE].memexdata.com)\n"
   ]
  },
  {
   "cell_type": "markdown",
   "metadata": {},
   "source": [
    "### Datasets\n",
    "\n",
    "List available datasets\n"
   ]
  },
  {
   "cell_type": "code",
   "execution_count": null,
   "metadata": {},
   "outputs": [],
   "source": [
    "mx.list_datasets()"
   ]
  },
  {
   "cell_type": "markdown",
   "metadata": {},
   "source": [
    "Run a query against a dataset\n"
   ]
  },
  {
   "cell_type": "code",
   "execution_count": null,
   "metadata": {},
   "outputs": [],
   "source": [
    "mx.query(\"SELECT * FROM ancient_civilizations LIMIT 10\")"
   ]
  },
  {
   "cell_type": "markdown",
   "metadata": {},
   "source": [
    "## UDFs\n",
    "\n",
    "Memex allow you to combine SQL queries with UDFs (User Defined Functions). UDFs can be written in Python or in natural language!\n",
    "\n",
    "### Python UDF\n",
    "\n",
    "Here is a simple example a Python function to check if two words are anagrams.\n"
   ]
  },
  {
   "cell_type": "code",
   "execution_count": null,
   "metadata": {},
   "outputs": [],
   "source": [
    "def is_anagram(word1, word2):\n",
    "    return sorted(word1) == sorted(word2)"
   ]
  },
  {
   "cell_type": "markdown",
   "metadata": {},
   "source": [
    "Let’s test it on an example\n"
   ]
  },
  {
   "cell_type": "code",
   "execution_count": null,
   "metadata": {},
   "outputs": [],
   "source": [
    "is_anagram(\"elvis\", \"lives\")"
   ]
  },
  {
   "cell_type": "markdown",
   "metadata": {},
   "source": [
    "We get back `True`. Let’s run another test:\n"
   ]
  },
  {
   "cell_type": "code",
   "execution_count": null,
   "metadata": {},
   "outputs": [],
   "source": [
    "is_anagram(\"elvis\", \"dead\")"
   ]
  },
  {
   "cell_type": "markdown",
   "metadata": {},
   "source": [
    "We get `False`.\n",
    "\n",
    "To make this function available to Memex, we just need to annotate it with the `@mx.udf` decorator\n"
   ]
  },
  {
   "cell_type": "code",
   "execution_count": null,
   "metadata": {},
   "outputs": [],
   "source": [
    "@mx.udf\n",
    "def is_anagram(word1: str, word2: str) -> bool:\n",
    "    return sorted(word1) == sorted(word2)"
   ]
  },
  {
   "cell_type": "markdown",
   "metadata": {},
   "source": [
    "Now we can use this function in a SQL query in Memex.\n",
    "\n",
    "We can call it with the following syntax with a SQL query:\n"
   ]
  },
  {
   "cell_type": "code",
   "execution_count": null,
   "metadata": {},
   "outputs": [],
   "source": [
    "mx.query(\"SELECT is_anagram('elvis', 'lives')\")"
   ]
  },
  {
   "cell_type": "markdown",
   "metadata": {},
   "source": [
    "{% hint style=\"info\" %}\n",
    "💡 **Note:** Once the function is defined, it is automatically available in Memex and you can use it in any SQL query in the [Memex UI](https://[YOUR_INSTANCE].memexdata.com) as well.\n",
    "{% endhint %}\n"
   ]
  },
  {
   "cell_type": "markdown",
   "metadata": {},
   "source": [
    "### Natural Language UDF\n",
    "\n",
    "Memex also allows you to define UDFs using just natural language. To do that, you define a Python function with a docstring that contains the prompt for the LLM (Large Language Model) and annotate it with the `@mx.prompt` decorator.\n"
   ]
  },
  {
   "cell_type": "code",
   "execution_count": null,
   "metadata": {},
   "outputs": [],
   "source": [
    "@mx.prompt\n",
    "def generate_anagram(n: int) -> str:\n",
    "    \"\"\"Generate {n} pair of anagrams.\"\"\""
   ]
  },
  {
   "cell_type": "markdown",
   "metadata": {},
   "source": [
    "Which can then be called within a SQL query:\n"
   ]
  },
  {
   "cell_type": "code",
   "execution_count": null,
   "metadata": {},
   "outputs": [],
   "source": [
    "mx.query(\"SELECT generate_anagram(5)\")"
   ]
  },
  {
   "cell_type": "markdown",
   "metadata": {},
   "source": [
    "This query would return something like this:\n",
    "\n",
    "<table data-full-width=\"false\"><thead><tr><th width=\"196\"></th><th>generate_anagram(5)</th></tr></thead><tbody><tr><td>0</td><td>1. laps - pals\\n2. store - roset\\n3. listen - ...</td></tr></tbody></table>\n",
    "\n",
    "Behind the scene this translates to a call to a LLM with a given prompt. The prompt (or prompt template), defined in the Python docstring of the function, and the function parameters are evaluated with the prompt to generate the final prompt for the LLM.\n",
    "\n",
    "We can do a bit of post-processing to get a list of rows in table structure\n"
   ]
  },
  {
   "cell_type": "markdown",
   "metadata": {},
   "source": [
    "mx.query(\"SELECT unnest(split(generate_anagram(5), '\\\\n')) as anagram\")\n"
   ]
  },
  {
   "cell_type": "markdown",
   "metadata": {},
   "source": [
    "Which returns something like this\n",
    "\n",
    "<table><thead><tr><th width=\"76\"></th><th width=\"194\">anagram</th></tr></thead><tbody><tr><td>0</td><td>1. laps -pals</td></tr><tr><td>1</td><td>2. store - roset</td></tr><tr><td>2</td><td>3. listen - silent</td></tr><tr><td>3</td><td>4. evil - live</td></tr><tr><td>4</td><td>5. heart - earth</td></tr></tbody></table>\n",
    "\n",
    "Within the function call we can specify the use a different LLM model, change the temperature, max_tokens, etc. By default, `gpt-3.5-turbo` is used.\n"
   ]
  },
  {
   "cell_type": "markdown",
   "metadata": {},
   "source": [
    "mx.query(\"SELECT unnest(split(generate_anagram(5), '\\\\n')) as anagram\",\n",
    "model='gpt-4', temperature=0.2, max_tokens=256)\n"
   ]
  },
  {
   "cell_type": "markdown",
   "metadata": {},
   "source": [
    "Now that we’ve gone through a simple example, let's try a more complex one\n"
   ]
  },
  {
   "cell_type": "code",
   "execution_count": null,
   "metadata": {},
   "outputs": [],
   "source": [
    "@mx.prompt\n",
    "def ancient_civilization(n: int) -> str:\n",
    "    \"\"\"Give me {n} names of random ancient civilizations.\n",
    "    Provide just the canonical name, and exclude qualifiers like\n",
    "    \"civilization\", \"empire\", etc. FORMAT the data as a COMMA DELIMITED LIST,\n",
    "    like: civ1, civ2, civ3, ...\"\"\""
   ]
  },
  {
   "cell_type": "markdown",
   "metadata": {},
   "source": [
    "mx.query(\"SELECT unnest(split(ancient_civilization(5), ',')) as civilization\")\n"
   ]
  },
  {
   "cell_type": "markdown",
   "metadata": {},
   "source": [
    "Which returns a table that should look like this:\n",
    "\n",
    "<table><thead><tr><th width=\"100\"></th><th width=\"196\">civilization</th></tr></thead><tbody><tr><td>0</td><td>Egypt</td></tr><tr><td>1</td><td>Mesopotamia</td></tr><tr><td>2</td><td>Maya</td></tr><tr><td>3</td><td>Indus Valley</td></tr><tr><td>4</td><td>Zhou Dynasty</td></tr></tbody></table>\n",
    "\n",
    "Now we can save the results of this query as a new table in Memex using the `save_as_table` command\n"
   ]
  },
  {
   "cell_type": "code",
   "execution_count": null,
   "metadata": {},
   "outputs": [],
   "source": [
    "mx.save_as_table(\"ancient_civilizations\", \n",
    "                 \"SELECT unnest(split(ancient_civilization(20), ',')) as civilization\", overwrite**=True**)"
   ]
  },
  {
   "cell_type": "markdown",
   "metadata": {},
   "source": [
    "You can now go to the [Memex UI](https://[YOUR_INSTANCE].memexdata.com) and see this new table\n",
    "\n",
    "You’ve said Hello World with the Memex API!\n"
   ]
  }
 ],
 "metadata": {
  "kernelspec": {
   "display_name": "memex_user",
   "language": "python",
   "name": "memex_user"
  },
  "language_info": {
   "codemirror_mode": {
    "name": "ipython",
    "version": 3
   },
   "file_extension": ".py",
   "mimetype": "text/x-python",
   "name": "python",
   "nbconvert_exporter": "python",
   "pygments_lexer": "ipython3",
   "version": "3.11.8"
  }
 },
 "nbformat": 4,
 "nbformat_minor": 2
}
