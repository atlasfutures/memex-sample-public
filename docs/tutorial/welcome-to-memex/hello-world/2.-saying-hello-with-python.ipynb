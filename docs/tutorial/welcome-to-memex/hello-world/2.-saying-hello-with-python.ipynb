{
 "cells": [
  {
   "cell_type": "markdown",
   "id": "cc7e7ec2",
   "metadata": {},
   "source": [
    "# 🚀 2. Saying hello with Python\n",
    "\n",
    "_Click on the button bellow to open this tutorial as an executable notebook_\n",
    "\n",
    "[![Open In Colab](https://colab.research.google.com/assets/colab-badge.svg)](https://colab.research.google.com/github/atlasfutures/memex-sample-public/blob/main/docs/tutorial/welcome-to-memex/hello-world/2.-saying-hello-with-python.ipynb)\n",
    "\n",
    "***\n",
    "\n",
    "## Hello World with **the Memex API**\n",
    "\n",
    "#### **Install Memex package**"
   ]
  },
  {
   "cell_type": "code",
   "execution_count": null,
   "id": "7205f621",
   "metadata": {},
   "outputs": [],
   "source": [
    "!pip install -q memexdata"
   ]
  },
  {
   "cell_type": "markdown",
   "id": "1d6073db",
   "metadata": {},
   "source": [
    "#### Set your instance and API information\n",
    "\n",
    "First, set the variables for your Memex account:\n",
    "\n",
    "* `MEMEX_INSTANCE_URL`: The URL to your instance.\n",
    "* `MEMEX_API_KEY`: You can find it under your profile bubble at the top right corner of the Memex UI after you log-in."
   ]
  },
  {
   "cell_type": "code",
   "execution_count": null,
   "id": "939a9fbb",
   "metadata": {},
   "outputs": [],
   "source": [
    "MEMEX_INSTANCE_URL= \"https://[YOUR_INSTANCE].memexdata.com\"\n",
    "MEMEX_API_KEY = \"[YOUR_API_KEY]\""
   ]
  },
  {
   "cell_type": "markdown",
   "id": "c05d2de1",
   "metadata": {},
   "source": [
    "#### Connect to Memex"
   ]
  },
  {
   "cell_type": "code",
   "execution_count": null,
   "id": "f661d133",
   "metadata": {},
   "outputs": [],
   "source": [
    "from memex import MemexSession\n",
    "mx = MemexSession(MEMEX_INSTANCE_URL, api_key=MEMEX_API_KEY)"
   ]
  },
  {
   "cell_type": "markdown",
   "id": "0be7e3e9",
   "metadata": {},
   "source": [
    "Anything we create or save via the API will also be reflected in the [Memex UI](https://{instance}.memexdata.com/)\n",
    "\n",
    "### Datasets\n",
    "\n",
    "List available datasets"
   ]
  },
  {
   "cell_type": "code",
   "execution_count": null,
   "id": "759fe707",
   "metadata": {},
   "outputs": [],
   "source": [
    "mx.list_datasets()"
   ]
  },
  {
   "cell_type": "markdown",
   "id": "08043973",
   "metadata": {},
   "source": [
    "(If you haven't already, upload the `ancient_civilizations` table to your Memex instance by [following the instructions here](1.-hello-new-world.md#id-1.-upload-some-data)[)](https://memex-1.gitbook.io/alphadocs/welcome-to-memex/hello-world/1.-hello-new-world#id-1.-upload-some-data)\n",
    "\n",
    "Run a query against a dataset"
   ]
  },
  {
   "cell_type": "code",
   "execution_count": null,
   "id": "c0c5d768",
   "metadata": {},
   "outputs": [],
   "source": [
    "mx.query('SELECT * FROM ancient_civilizations LIMIT 10')"
   ]
  },
  {
   "cell_type": "markdown",
   "id": "a58482a4",
   "metadata": {},
   "source": [
    "## UDFs\n",
    "\n",
    "Memex allow you to combine SQL queries with UDFs (User Defined Functions). UDFs can be written in Python or in natural language!\n",
    "\n",
    "### Python UDF\n",
    "\n",
    "Here is a simple example a Python function to check if two words are anagrams."
   ]
  },
  {
   "cell_type": "code",
   "execution_count": null,
   "id": "a5208159",
   "metadata": {},
   "outputs": [],
   "source": [
    "def is_anagram(word1, word2):\n",
    "    return sorted(word1) == sorted(word2)"
   ]
  },
  {
   "cell_type": "markdown",
   "id": "7fd94b5d",
   "metadata": {},
   "source": [
    "Let’s test it on an example"
   ]
  },
  {
   "cell_type": "code",
   "execution_count": null,
   "id": "944e24bd",
   "metadata": {},
   "outputs": [],
   "source": [
    "is_anagram('elvis', 'lives')"
   ]
  },
  {
   "cell_type": "markdown",
   "id": "e977b9bd",
   "metadata": {},
   "source": [
    "We get back `True`. Let’s run another test:"
   ]
  },
  {
   "cell_type": "code",
   "execution_count": null,
   "id": "e223dd6d",
   "metadata": {},
   "outputs": [],
   "source": [
    "is_anagram('elvis', 'dead')"
   ]
  },
  {
   "cell_type": "markdown",
   "id": "dc9c7359",
   "metadata": {},
   "source": [
    "We get `False`.\n",
    "\n",
    "To make this function available to Memex, we just need to annotate it with the `@mx.udf` decorator"
   ]
  },
  {
   "cell_type": "code",
   "execution_count": null,
   "id": "ca829433",
   "metadata": {},
   "outputs": [],
   "source": [
    "\n",
    "@mx.udf\n",
    "def is_anagram(word1: str, word2: str) -> bool:\n",
    "    return sorted(word1) == sorted(word2)\n",
    "\n",
    "# Note: the type annotations are required"
   ]
  },
  {
   "cell_type": "markdown",
   "id": "51295618",
   "metadata": {},
   "source": [
    "Now we can use this function in a SQL query in Memex.\n",
    "\n",
    "We can call it with the following syntax with a SQL query:"
   ]
  },
  {
   "cell_type": "code",
   "execution_count": null,
   "id": "50d7dc58",
   "metadata": {},
   "outputs": [],
   "source": [
    "mx.query(\"SELECT is_anagram('elvis', 'lives')\")"
   ]
  },
  {
   "cell_type": "code",
   "execution_count": null,
   "id": "1f9f1c1b",
   "metadata": {},
   "outputs": [],
   "source": [
    "from IPython.display import Markdown as md\n",
    "\n",
    "md(\n",
    "    \"💡 **Note:** Once the function is defined, it is automatically available in Memex and you can use it in any SQL query in the [Memex UI]({}) as well.\".format(\n",
    "        MEMEX_INSTANCE_URL\n",
    "    )\n",
    ")"
   ]
  },
  {
   "cell_type": "markdown",
   "id": "0b0b21d2",
   "metadata": {},
   "source": [
    "### Natural Language UDF\n",
    "\n",
    "Memex also allows you to define UDFs using just natural language. To do that, you define a Python function with a docstring that contains the prompt for the LLM (Large Language Model) and annotate it with the `@mx.prompt` decorator."
   ]
  },
  {
   "cell_type": "code",
   "execution_count": null,
   "id": "eecbdb12",
   "metadata": {},
   "outputs": [],
   "source": [
    "@mx.prompt\n",
    "def generate_anagram(n:int) -> str:\n",
    "    \"\"\"Generate {n} pair of anagrams.\"\"\""
   ]
  },
  {
   "cell_type": "markdown",
   "id": "26cedb08",
   "metadata": {},
   "source": [
    "Which can then be called within a SQL query:"
   ]
  },
  {
   "cell_type": "code",
   "execution_count": null,
   "id": "9fe55af0",
   "metadata": {},
   "outputs": [],
   "source": [
    "mx.query(\"SELECT generate_anagram(5)\")"
   ]
  },
  {
   "cell_type": "markdown",
   "id": "00b96c89",
   "metadata": {},
   "source": [
    "This query would return something like this:\n",
    "\n",
    "<table data-full-width=\"false\"><thead><tr><th width=\"196\"></th><th>generate_anagram(5)</th></tr></thead><tbody><tr><td>0</td><td>1. laps - pals\\n2. store - roset\\n3. listen - ...</td></tr></tbody></table>\n",
    "\n",
    "Behind the scene this translates to a call to a LLM with a given prompt. The prompt (or prompt template), defined in the Python docstring of the function, and the function parameters are evaluated with the prompt to generate the final prompt for the LLM.\n",
    "\n",
    "We can do a bit of post-processing to get a list of rows in table structure"
   ]
  },
  {
   "cell_type": "code",
   "execution_count": null,
   "id": "4d7c9308",
   "metadata": {},
   "outputs": [],
   "source": [
    "mx.query(\"SELECT unnest(split(generate_anagram(5), '\\\\n')) as anagram\")"
   ]
  },
  {
   "cell_type": "markdown",
   "id": "59009740",
   "metadata": {},
   "source": [
    "Which returns something like this\n",
    "\n",
    "<table><thead><tr><th width=\"76\"></th><th width=\"194\">anagram</th></tr></thead><tbody><tr><td>0</td><td>1. laps -pals</td></tr><tr><td>1</td><td>2. store - roset</td></tr><tr><td>2</td><td>3. listen - silent</td></tr><tr><td>3</td><td>4. evil - live</td></tr><tr><td>4</td><td>5. heart - earth</td></tr></tbody></table>\n",
    "\n",
    "Within the function call we can specify the use a different LLM model, change the temperature, max\\_tokens, etc. By default, `gpt-3.5-turbo` is used."
   ]
  },
  {
   "cell_type": "code",
   "execution_count": null,
   "id": "5faa3af2",
   "metadata": {},
   "outputs": [],
   "source": [
    "mx.query(\"SELECT unnest(split(generate_anagram(5), '\\\\n')) as anagram\",\n",
    " model='gpt-4', temperature=0.2, max_tokens=256)"
   ]
  },
  {
   "cell_type": "markdown",
   "id": "8b97707c",
   "metadata": {},
   "source": [
    "Now that we’ve gone through a simple example, let's try a more complex one"
   ]
  },
  {
   "cell_type": "code",
   "execution_count": null,
   "id": "aa5a39e8",
   "metadata": {},
   "outputs": [],
   "source": [
    "@mx.prompt\n",
    "def ancient_civilization(n:int) -> list[str]:\n",
    "    \"\"\"Give me {n} names of random ancient civilizations.\n",
    "     Provide just the canonical name, and exclude qualifiers like\n",
    "     \"civilization\", \"empire\", etc\n",
    "    \"\"\""
   ]
  },
  {
   "cell_type": "code",
   "execution_count": null,
   "id": "814cdb08",
   "metadata": {},
   "outputs": [],
   "source": [
    "mx.query(\"SELECT unnest(ancient_civilization(5)) as civilization\")"
   ]
  },
  {
   "cell_type": "markdown",
   "id": "af2b6229",
   "metadata": {},
   "source": [
    "Which returns a table that should look like this:\n",
    "\n",
    "<table><thead><tr><th width=\"100\"></th><th width=\"196\">civilization</th></tr></thead><tbody><tr><td>0</td><td>Egypt</td></tr><tr><td>1</td><td>Mesopotamia</td></tr><tr><td>2</td><td>Maya</td></tr><tr><td>3</td><td>Indus Valley</td></tr><tr><td>4</td><td>Zhou Dynasty</td></tr></tbody></table>\n",
    "\n",
    "Now we can save the results of this query as a new table in Memex using the `save_as_table` command"
   ]
  },
  {
   "cell_type": "code",
   "execution_count": null,
   "id": "be9be221",
   "metadata": {},
   "outputs": [],
   "source": [
    "mx.save_as_table(\n",
    "    \"ancient_civilizations\",\n",
    "    \"SELECT unnest(ancient_civilization(20)) as civilization\",\n",
    "    overwrite=True,\n",
    ")"
   ]
  },
  {
   "cell_type": "code",
   "execution_count": null,
   "id": "90f1edb3",
   "metadata": {},
   "outputs": [],
   "source": [
    "md(\n",
    "    \"\"\"You can now go to the [Memex UI]({}) and see this new table.\n",
    "   \n",
    "   You’ve said Hello World with the Memex API!\n",
    "\"\"\".format(\n",
    "        MEMEX_INSTANCE_URL\n",
    "    )\n",
    ")"
   ]
  },
  {
   "cell_type": "markdown",
   "id": "ce3c3094",
   "metadata": {},
   "source": [
    "You’ve said Hello World with the Memex API!\n",
    "\n",
    "***\n",
    "\n",
    "By now you might be thinking “this was pretty simple, let’s go have some more fun”. We got you covered with more walkthroughs below in the [How are you World?](3.-how-are-you-world.md) page\n",
    "\n",
    "{% content-ref url=\"3.-how-are-you-world.md\" %}\n",
    "[3.-how-are-you-world.md](3.-how-are-you-world.md)\n",
    "{% endcontent-ref %}"
   ]
  }
 ],
 "metadata": {
  "jupytext": {
   "cell_metadata_filter": "-all",
   "main_language": "python",
   "notebook_metadata_filter": "-all"
  }
 },
 "nbformat": 4,
 "nbformat_minor": 5
}
