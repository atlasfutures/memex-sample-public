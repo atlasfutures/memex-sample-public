{
 "cells": [
  {
   "cell_type": "markdown",
   "id": "892e1722-8b64-49c9-9824-ba26640f4cfc",
   "metadata": {
    "id": "892e1722-8b64-49c9-9824-ba26640f4cfc"
   },
   "source": [
    "<a href=\"https://colab.research.google.com/github/atlasfutures/memex/blob/docs_private/docs/tutorial/tutorials/clinical-trials-matching/Clinical_Trials_Matching.ipynb\" target=\"_parent\"><img src=\"https://colab.research.google.com/assets/colab-badge.svg\" alt=\"Open In Colab\"/></a>\n"
   ]
  },
  {
   "cell_type": "markdown",
   "id": "0fa5773b-a959-4dfe-bb3a-c05fd958ef8f",
   "metadata": {
    "id": "0fa5773b-a959-4dfe-bb3a-c05fd958ef8f"
   },
   "source": [
    "# Match Patients to Clinical Trials\n",
    "\n",
    "### An implementation of [Zero-Shot Clinical Trial Patient Matching with LLMs](https://arxiv.org/pdf/2402.05125.pdf) from Stanford Medicine's Shah Lab using Memex\n"
   ]
  },
  {
   "cell_type": "markdown",
   "id": "jxTozKHn4v4j",
   "metadata": {
    "id": "jxTozKHn4v4j"
   },
   "source": [
    "# Introduction\n",
    "\n",
    "This tutorial outlines the process of matching patients to clinical trials following Stanford's SOTA research on the topic using the Memex SDK in a Python environment. It begins with the installation of the Memex SDK and the loading of synthetic patient data and clinical trials data from Google Drive. The document then details the process of uploading this data to the Memex platform.\n",
    "\n",
    "The below data diagram illustrates the full analytics pipeline this notebook implements.\n"
   ]
  },
  {
   "cell_type": "markdown",
   "id": "KgyeBgLF7z4e",
   "metadata": {
    "id": "KgyeBgLF7z4e"
   },
   "source": [
    "[![](https://mermaid.ink/img/pako:eNp9VNty2jAQ_ZUd9bGEAYMvuJ3MkAC5kWlufWjrPihGttXIEmPJaUgm_961TAy4M9aTjs7Zs961tG8kVitGQpII9TfOaGHgYRZJwKXLx7Sg6wy4XJcGVtTQmqjW9FdE7jfSZIxG5PfufI7nseCSx1SYglOh-6l6biRMrurNFI6OjuGkcjFFGZuyYLCmhjO5zfQRMUchKheonL-YgsYGrC_EBTcMd43yxFqeonChipwaoI2jLvOcFptGemqlsyq7ZfjrLnvGtVF72oXVnlW2ghrDZJMZqFwhUFrDH8UlGNVKyJlubGbW5rwq45mKkpomowaaUi61-b-kszqoBucWXKDDNE0Llu5ZANWaaZ1Xbk3whdVfVkXGCturTcFkajJQSRP39Ri27cSGxdne98I0DMNHUbItPEGIWZnc4tMWniFWBZXpR8D8MH7R5s9aBudtwUVLcHmIY4FFz1gCdRAkXIjwUzLxWrTgaWYONUnS0ljbLTtIJpFsvYAlS5ubC3BVtfR2Cbff53c_9m7_Es9v7r5d3zzAZ0DBHnXVqgWWrWqtfb3F1_N0bzaCwaD6Z-qJ2T5-abPDTtbpZEed7LiTdTtZr5P1O9nggCU9kjN8yHyF4-mt0kYE503OIhLi9lHQ-CkikXxHIS2NwnEUkxCnCeuRco1DhM04xf-XkzDBOYSnbMXxJlzXA8_OvR5ZU_lTqZ0GMQnfyAsJg0l_OPI833V93_Uno6BHNiR0g74_dB1_PBp745HjOOP3Hnm1DoN-4A0dJxi6g_HAGzl-8P4PPLGuSw?type=png)](https://mermaid-js.github.io/mermaid-live-editor/edit#pako:eNp9VNty2jAQ_ZUd9bGEAYMvuJ3MkAC5kWlufWjrPihGttXIEmPJaUgm_961TAy4M9aTjs7Zs961tG8kVitGQpII9TfOaGHgYRZJwKXLx7Sg6wy4XJcGVtTQmqjW9FdE7jfSZIxG5PfufI7nseCSx1SYglOh-6l6biRMrurNFI6OjuGkcjFFGZuyYLCmhjO5zfQRMUchKheonL-YgsYGrC_EBTcMd43yxFqeonChipwaoI2jLvOcFptGemqlsyq7ZfjrLnvGtVF72oXVnlW2ghrDZJMZqFwhUFrDH8UlGNVKyJlubGbW5rwq45mKkpomowaaUi61-b-kszqoBucWXKDDNE0Llu5ZANWaaZ1Xbk3whdVfVkXGCturTcFkajJQSRP39Ri27cSGxdne98I0DMNHUbItPEGIWZnc4tMWniFWBZXpR8D8MH7R5s9aBudtwUVLcHmIY4FFz1gCdRAkXIjwUzLxWrTgaWYONUnS0ljbLTtIJpFsvYAlS5ubC3BVtfR2Cbff53c_9m7_Es9v7r5d3zzAZ0DBHnXVqgWWrWqtfb3F1_N0bzaCwaD6Z-qJ2T5-abPDTtbpZEed7LiTdTtZr5P1O9nggCU9kjN8yHyF4-mt0kYE503OIhLi9lHQ-CkikXxHIS2NwnEUkxCnCeuRco1DhM04xf-XkzDBOYSnbMXxJlzXA8_OvR5ZU_lTqZ0GMQnfyAsJg0l_OPI833V93_Uno6BHNiR0g74_dB1_PBp745HjOOP3Hnm1DoN-4A0dJxi6g_HAGzl-8P4PPLGuSw)\n"
   ]
  },
  {
   "cell_type": "code",
   "execution_count": null,
   "id": "fRKGHr-Pg7-f",
   "metadata": {
    "id": "fRKGHr-Pg7-f"
   },
   "outputs": [],
   "source": [
    "# @title pip install memex\n",
    "!pip install -q memex"
   ]
  },
  {
   "cell_type": "code",
   "execution_count": null,
   "id": "04a12d19",
   "metadata": {
    "editable": true,
    "slideshow": {
     "slide_type": ""
    },
    "tags": [
     "parameters"
    ]
   },
   "outputs": [],
   "source": [
    "# @title setup Memex instance and api key\n",
    "\n",
    "MEMEX_INSTANCE_URL = \"https://<YOUR_INSTANCE>.memexdata.com\"\n",
    "MEMEX_API_KEY = \"<YOUR_API_KEY>\""
   ]
  },
  {
   "cell_type": "code",
   "execution_count": null,
   "id": "hF_tM7vupGwA",
   "metadata": {
    "id": "hF_tM7vupGwA"
   },
   "outputs": [],
   "source": [
    "# @title connect to MemexSession\n",
    "from memex import MemexSession\n",
    "\n",
    "mx = MemexSession(MEMEX_INSTANCE_URL, api_key=MEMEX_API_KEY, verify_ssl=False)"
   ]
  },
  {
   "cell_type": "code",
   "execution_count": null,
   "id": "FQX7A8GzPTH4",
   "metadata": {
    "id": "FQX7A8GzPTH4"
   },
   "outputs": [],
   "source": [
    "# @title imports\n",
    "import os\n",
    "import json\n",
    "import zipfile\n",
    "import requests\n",
    "from pathlib import Path\n",
    "from IPython.display import Markdown as md"
   ]
  },
  {
   "cell_type": "markdown",
   "id": "2f33703c-b958-4861-9f54-08f67579cb8e",
   "metadata": {
    "id": "2f33703c-b958-4861-9f54-08f67579cb8e"
   },
   "source": [
    "## Download synthetic patient data and clinicaltrials.gov data from Google Drive\n",
    "\n",
    "You can view the notebook that uses Synthea to generate the synthetic patient population used in this notebook here: [![Open in Colab](https://colab.research.google.com/assets/colab-badge.svg)](https://colab.research.google.com/github/atlasfutures/memex-sample-public/blob/main/docs/tutorial/tutorials/synthesize-patient-communications/synthesize-patient-communications.ipynb)\n"
   ]
  },
  {
   "cell_type": "code",
   "execution_count": null,
   "id": "7gjmdQ8cpYOK",
   "metadata": {
    "id": "7gjmdQ8cpYOK"
   },
   "outputs": [],
   "source": [
    "# @title download data and project files\n",
    "\n",
    "os.makedirs(\"data\", exist_ok=True)\n",
    "\n",
    "\n",
    "def download(file):\n",
    "    DOWNLOAD_DIR = \"./\"\n",
    "    BASE_URL = \"https://sample.memexdata.com/clinical_trials/\"\n",
    "    open(f\"{DOWNLOAD_DIR}{file}\", \"wb\").write(\n",
    "        requests.get(BASE_URL + file, allow_redirects=True).content\n",
    "    )\n",
    "\n",
    "\n",
    "# synthetic patient population created with synthea\n",
    "download(\"data/synthea501.zip\")\n",
    "\n",
    "with zipfile.ZipFile(\"data/synthea501.zip\", \"r\") as zip_ref:\n",
    "    zip_ref.extractall(\".\")\n",
    "\n",
    "# psychiatric clinical trials downloaded from clinicaltrials.gov\n",
    "download(\"data/ctg.json\")\n",
    "\n",
    "download(\"code.zip\")\n",
    "\n",
    "with zipfile.ZipFile(\"code.zip\", \"r\") as zip_ref:\n",
    "    zip_ref.extractall(\".\")\n",
    "\n",
    "SQL_DIR = \"./queries/\"\n",
    "FUNCTION_DIR = \"./functions/\"\n",
    "csv_files = [\n",
    "    Path(os.path.join(root, file))\n",
    "    for root, _, files in os.walk(\"synthea501\")\n",
    "    for file in files\n",
    "    if file.endswith(\".csv\")\n",
    "]\n",
    "sql_files = [\n",
    "    Path(os.path.join(root, file))\n",
    "    for root, _, files in os.walk(SQL_DIR)\n",
    "    for file in files\n",
    "    if file.endswith(\".sql\")\n",
    "]\n",
    "function_files = [\n",
    "    Path(os.path.join(root, file))\n",
    "    for root, _, files in os.walk(FUNCTION_DIR)\n",
    "    for file in files\n",
    "    if file.endswith(\".json\")\n",
    "]"
   ]
  },
  {
   "cell_type": "code",
   "execution_count": null,
   "id": "4l14ScwdQtOb",
   "metadata": {
    "id": "4l14ScwdQtOb"
   },
   "outputs": [
    {
     "name": "stdout",
     "output_type": "stream",
     "text": [
      "- devices\n"
     ]
    },
    {
     "name": "stdout",
     "output_type": "stream",
     "text": [
      "- immunizations\n"
     ]
    },
    {
     "name": "stdout",
     "output_type": "stream",
     "text": [
      "- patients\n"
     ]
    },
    {
     "name": "stdout",
     "output_type": "stream",
     "text": [
      "\n",
      "\n",
      "Loading queries\n",
      "---------------\n",
      "- join_pts_criteria\n"
     ]
    },
    {
     "name": "stdout",
     "output_type": "stream",
     "text": [
      "- extract_criteria\n"
     ]
    },
    {
     "name": "stdout",
     "output_type": "stream",
     "text": [
      "- match_pts\n"
     ]
    },
    {
     "name": "stdout",
     "output_type": "stream",
     "text": [
      "- eval_patients\n"
     ]
    },
    {
     "name": "stdout",
     "output_type": "stream",
     "text": [
      "- format_patient_data\n"
     ]
    },
    {
     "name": "stdout",
     "output_type": "stream",
     "text": [
      "- summarize_pts\n"
     ]
    },
    {
     "name": "stdout",
     "output_type": "stream",
     "text": [
      "- aggregate_criteria\n"
     ]
    },
    {
     "name": "stdout",
     "output_type": "stream",
     "text": [
      "- patients_nested\n"
     ]
    },
    {
     "name": "stdout",
     "output_type": "stream",
     "text": [
      "\n",
      "\n",
      "Loading functions\n",
      "---------------\n",
      "- summarize\n"
     ]
    },
    {
     "name": "stdout",
     "output_type": "stream",
     "text": [
      "- shah_individual_py\n"
     ]
    },
    {
     "name": "stdout",
     "output_type": "stream",
     "text": [
      "- match_pts\n"
     ]
    },
    {
     "name": "stdout",
     "output_type": "stream",
     "text": [
      "- format_patient_history\n"
     ]
    },
    {
     "name": "stdout",
     "output_type": "stream",
     "text": [
      "- extract_criteria_py\n"
     ]
    }
   ],
   "source": [
    "# @title load project files\n",
    "print(\"Loading datasets\\n-----------------\\n\")\n",
    "\n",
    "# Clinical trials data\n",
    "trialpath = Path(\"data/ctg.json\")\n",
    "print(f\"Clinical trials data:\\n- {trialpath.stem}\")\n",
    "with trialpath.open() as file:\n",
    "    mx.upload_dataset(file, trialpath.name)\n",
    "\n",
    "print(\"\\nPatient data (OMOP format):\")\n",
    "# Upload synthea files\n",
    "for fpath in csv_files:\n",
    "    if fpath.stem not in set([\"claims_transactions\", \"observations\", \"procedures\"]):\n",
    "        print(f\"- {fpath.stem}\")\n",
    "        with fpath.open() as file:\n",
    "            mx.upload_dataset(file, fpath.name)\n",
    "\n",
    "print(\"\\n\\nLoading queries\\n---------------\")\n",
    "# Load queries\n",
    "for querypath in sql_files:\n",
    "    print(f\"- {querypath.stem}\")\n",
    "    with querypath.open() as file:\n",
    "        mx.save_query(query=file.read(), name=querypath.stem, overwrite=True)\n",
    "\n",
    "print(\"\\n\\nLoading functions\\n---------------\")\n",
    "# Load functions\n",
    "for functionpath in function_files:\n",
    "    print(f\"- {functionpath.stem}\")\n",
    "    with functionpath.open() as file:\n",
    "        mx.save_function({\"function\": json.load(file), \"overwrite\": True})"
   ]
  },
  {
   "cell_type": "markdown",
   "id": "6Oxsc4CyZS5e",
   "metadata": {
    "id": "6Oxsc4CyZS5e"
   },
   "source": [
    "## Inspecting project assets\n",
    "\n",
    "Let's take a look at some of the project assets we just imported.\n",
    "\n",
    "All of these are also available in the UI.\n"
   ]
  },
  {
   "cell_type": "code",
   "execution_count": null,
   "id": "P3yFxznEZncQ",
   "metadata": {
    "id": "P3yFxznEZncQ"
   },
   "outputs": [],
   "source": [
    "print(mx.get_function(\"shah_individual_py\")[\"source\"])"
   ]
  },
  {
   "cell_type": "code",
   "execution_count": null,
   "id": "oN7fVFEcUxMr",
   "metadata": {
    "id": "oN7fVFEcUxMr"
   },
   "outputs": [],
   "source": [
    "print(mx.get_query(\"eval_patients\")[\"query\"])"
   ]
  },
  {
   "cell_type": "markdown",
   "id": "6a371d04-08d3-4259-bff0-90ff1c4b769b",
   "metadata": {
    "id": "6a371d04-08d3-4259-bff0-90ff1c4b769b"
   },
   "source": [
    "# Transform patient data for data synthesis\n",
    "\n",
    "[![](https://mermaid.ink/img/pako:eNp9VN1vmzAQ_1dO3uPSKJAECJsqpU3Sr1T93MM29uA4BryCHWHTNq36v-9wUkKYFB6Qz78P353h3glTS05CEmfqhaW0MPA4iSTgo8tFUtBVCkKuSgNLaugGqJ7x74g8rKVJOY3In93-FPdZJqRgNDOFoJnuJuq5pnC5bJnDTnuN2plipQYVg0mFbmBWw5kRSlboPoBZgFSGL5R62stmDEdHx3BS5WqKkpmy4LCiRnC5radJPrHkU5tEkVMDtObqMs9psd6jn1r6pPK2qHjbeWPuRjX4ddlTFKFqhqrpqykoM2C7BKwQhuOqljTfM3vUWZVZRo3hsqYDlUsMlNbwVwkJRrVyFlzXlhNrc16d_Uyzkpo6YQ00oUJq838eZxvRJji3wQU6jJOk4EnDAqjWXOu8cqvFF5Z_WfWIKey9NgWXiUmrK_zUfT-GbQ-w5yxt5AvjMAwXWcm34QmGeCqX2_i0FU8wVgWVyadguq-ftfGzlsF5m3DRIlzuxyzDoic8ho0IYpFl4Zd45LXglxSb-onGcQu1hlu0F48i2fpD5jypvx-Aq6qZd3O4-zG9_9n4IOe4f3t_c337CF8BCQ3oqlUFzFt1WvvNEn_dpwezzjj0qttST9x28FsbdQ6i7kG0fxAdHESHB1HvIOofRIM9lHRIznEKiCXOxveKGxEcMzmPSIjLRUYZjppIfiCRlkbhLGQkxCHDO6Rc4WzhE0Hx_nISxjgEcZcvBc6E6820tUO3Q1ZU_lJqx8GYhO_klYTBqOv0Pc8fDn1_6I_6QYesSTgMur4zdP1Bf-AN-q7rDj465M069LqB57hu4HhBz-n5juN__AN0h81n?type=png)](https://mermaid-js.github.io/mermaid-live-editor/edit#pako:eNp9VN1vmzAQ_1dO3uPSKJAECJsqpU3Sr1T93MM29uA4BryCHWHTNq36v-9wUkKYFB6Qz78P353h3glTS05CEmfqhaW0MPA4iSTgo8tFUtBVCkKuSgNLaugGqJ7x74g8rKVJOY3In93-FPdZJqRgNDOFoJnuJuq5pnC5bJnDTnuN2plipQYVg0mFbmBWw5kRSlboPoBZgFSGL5R62stmDEdHx3BS5WqKkpmy4LCiRnC5radJPrHkU5tEkVMDtObqMs9psd6jn1r6pPK2qHjbeWPuRjX4ddlTFKFqhqrpqykoM2C7BKwQhuOqljTfM3vUWZVZRo3hsqYDlUsMlNbwVwkJRrVyFlzXlhNrc16d_Uyzkpo6YQ00oUJq838eZxvRJji3wQU6jJOk4EnDAqjWXOu8cqvFF5Z_WfWIKey9NgWXiUmrK_zUfT-GbQ-w5yxt5AvjMAwXWcm34QmGeCqX2_i0FU8wVgWVyadguq-ftfGzlsF5m3DRIlzuxyzDoic8ho0IYpFl4Zd45LXglxSb-onGcQu1hlu0F48i2fpD5jypvx-Aq6qZd3O4-zG9_9n4IOe4f3t_c337CF8BCQ3oqlUFzFt1WvvNEn_dpwezzjj0qttST9x28FsbdQ6i7kG0fxAdHESHB1HvIOofRIM9lHRIznEKiCXOxveKGxEcMzmPSIjLRUYZjppIfiCRlkbhLGQkxCHDO6Rc4WzhE0Hx_nISxjgEcZcvBc6E6820tUO3Q1ZU_lJqx8GYhO_klYTBqOv0Pc8fDn1_6I_6QYesSTgMur4zdP1Bf-AN-q7rDj465M069LqB57hu4HhBz-n5juN__AN0h81n)\n"
   ]
  },
  {
   "cell_type": "markdown",
   "id": "hWNqBRzDLnEU",
   "metadata": {
    "id": "hWNqBRzDLnEU"
   },
   "source": [
    "One key aspect of this process is the creation of nested patient data, which consolidates all relevant patient information into a structured format that is conducive to analysis and matching with clinical trials criteria. This step is crucial for the subsequent utilization of machine learning models that can process this structured data to make accurate matching predictions.\n",
    "\n",
    "The `patients_nested` query is used to create a nested representation of each patient's data, including their medical encounters, conditions, medications, allergies, and other relevant health information. By executing this query and saving the result as a table called `patients_nested`, we create a valuable resource that can be used for further processing and analysis.\n"
   ]
  },
  {
   "cell_type": "code",
   "execution_count": null,
   "id": "rQ0v6MURQ61N",
   "metadata": {
    "id": "rQ0v6MURQ61N"
   },
   "outputs": [],
   "source": [
    "patients_nested = mx.get_query(\"patients_nested\")\n",
    "mx.save_as_table(\"patients_nested\", patients_nested[\"query\"], overwrite=True)"
   ]
  },
  {
   "cell_type": "markdown",
   "id": "868e0348-987f-4ddd-8cb7-566e9739c9f9",
   "metadata": {},
   "source": [
    "Let's take a look the table we just saved"
   ]
  },
  {
   "cell_type": "code",
   "execution_count": null,
   "id": "8d482bc4-3cdd-45cf-916c-b697078140d7",
   "metadata": {},
   "outputs": [],
   "source": [
    "mx.query('SELECT * FROM patients_nested LIMIT 5')"
   ]
  },
  {
   "cell_type": "code",
   "execution_count": null,
   "id": "dc75e48b-3655-4b58-9cd8-0fe9e55ecdd5",
   "metadata": {},
   "outputs": [],
   "source": [
    "md(f\"Due to nested structure of this table, it would be much better to explore it in the [Memex UI]({MEMEX_INSTANCE_URL})\")"
   ]
  },
  {
   "cell_type": "markdown",
   "id": "ed2d2bf4-7704-44aa-a21b-c1801eb35fdd",
   "metadata": {},
   "source": [
    "## Formatting patient data\n",
    "\n",
    "To format the nested structure of patient data into a text summary for LLM processing, we can write a Python UDF. Let's take a look at `format_patient_history` function"
   ]
  },
  {
   "cell_type": "code",
   "execution_count": null,
   "id": "1349aea3-8991-4133-be10-2d4cf20ade0d",
   "metadata": {},
   "outputs": [],
   "source": [
    "print(mx.get_function(\"format_patient_history\")['source'])"
   ]
  },
  {
   "cell_type": "markdown",
   "id": "57f226f6-d5c7-4174-af5c-f262f0ea2c05",
   "metadata": {},
   "source": [
    "We can now run this function over all the patient data to produce a new table `pt_histories`"
   ]
  },
  {
   "cell_type": "code",
   "execution_count": null,
   "id": "829b5d84-16a7-4798-b372-7528be3b9ba8",
   "metadata": {},
   "outputs": [],
   "source": [
    "format_patient_data_query = mx.get_query(\"format_patient_data\")['query']\n",
    "print(format_patient_data_query)"
   ]
  },
  {
   "cell_type": "code",
   "execution_count": null,
   "id": "af6e29080248a678",
   "metadata": {
    "ExecuteTime": {
     "end_time": "2024-02-09T19:50:49.826050Z",
     "start_time": "2024-02-09T19:50:49.685440Z"
    },
    "collapsed": false,
    "id": "af6e29080248a678",
    "jupyter": {
     "outputs_hidden": false
    }
   },
   "outputs": [],
   "source": [
    "mx.save_as_table(\"pt_histories\", format_patient_data_query, overwrite=True)"
   ]
  },
  {
   "cell_type": "markdown",
   "id": "e7ddad5c-df47-48e5-91dc-fd97880dbf9e",
   "metadata": {},
   "source": [
    "Let's take a look at one of these patient history"
   ]
  },
  {
   "cell_type": "code",
   "execution_count": null,
   "id": "5750ea2e-d9ca-4824-a78c-c466ca111c2c",
   "metadata": {},
   "outputs": [],
   "source": [
    "pt_history = mx.query('SELECT * FROM pt_histories LIMIT 1')['history'].values[0]\n",
    "md(pt_history)"
   ]
  },
  {
   "cell_type": "markdown",
   "id": "33a5a9ff-df12-43f7-90fe-cc99bcc99c0f",
   "metadata": {},
   "source": [
    "## Summarize \n",
    "\n",
    "Now that we have the patient history as a big paragraph of text, we can call LLM to summarize it. \n",
    "\n",
    "Let's take a look at `summarize` propmt function."
   ]
  },
  {
   "cell_type": "code",
   "execution_count": null,
   "id": "7045c35a-6c3f-455d-bc44-92125488630f",
   "metadata": {},
   "outputs": [],
   "source": [
    "print(mx.get_function('summarize')['content'])"
   ]
  },
  {
   "cell_type": "markdown",
   "id": "be0cd0a9-b6e7-4407-9328-7bf1f3a6c193",
   "metadata": {},
   "source": [
    "Let's try it on some patient history"
   ]
  },
  {
   "cell_type": "code",
   "execution_count": null,
   "id": "9a76d13e-9fed-4557-9c2e-8a34066d1e0e",
   "metadata": {},
   "outputs": [],
   "source": [
    "summary = mx.query('select id, summarize(history) as pt_summary from pt_histories limit 1', \n",
    "                   temperature=0.1, \n",
    "                   max_tokens=2000)['pt_summary'].values[0]\n",
    "md(summary)"
   ]
  },
  {
   "cell_type": "markdown",
   "id": "c3f735d1-f240-4d62-8871-8b9abbf07a53",
   "metadata": {},
   "source": [
    "### 💡\n",
    "> At this point we can go to Memex UI and check the `llm_logs` for more stats of the LLM calls, e.g. number of input/output tokens"
   ]
  },
  {
   "cell_type": "markdown",
   "id": "9fb1e6fd-8c76-45c4-80ec-217e513a3d32",
   "metadata": {},
   "source": [
    "Now we can run it on the full set of patients and save it to `pt_summaries` table"
   ]
  },
  {
   "cell_type": "code",
   "execution_count": null,
   "id": "1gGLNw3AEBpY",
   "metadata": {
    "id": "1gGLNw3AEBpY"
   },
   "outputs": [],
   "source": [
    "# This query uses an LLM call to summarize patients:\n",
    "# summarize = mx.get_function(\"summarize\")\n",
    "summarize_pts = mx.get_query(\"summarize_pts\")\n",
    "mx.save_as_table(\n",
    "    \"pt_summaries\",\n",
    "    summarize_pts[\"query\"],\n",
    "    model=\"gpt-3.5-turbo\",\n",
    "    temperature=0.1,\n",
    "    max_tokens=4000,\n",
    "    use_cache=True,\n",
    "    overwrite=True,\n",
    ")"
   ]
  },
  {
   "cell_type": "markdown",
   "id": "ujwCT6ZQU5CG",
   "metadata": {
    "id": "ujwCT6ZQU5CG"
   },
   "source": [
    "# Format clinical trials criteria\n",
    "\n",
    "[![](https://mermaid.ink/img/pako:eNp9VNtymzAQ_ZUd9bGOx2AbMO1kxont3Oxpbn1oSx9kLEANSB4kkjiZ_HsXYWObzKAHRqtz9mh3xe47CeWKEZ9EqXwJE5preJwEAnCpYhnndJ0AF-tCw4pqWgHlGv8JyMNG6ITRgPzdn0_xPEy54CFNdc5pqrqxfK4pTKwa4nDgCycnJ6cwQ4npq85pqMFIQJhzzXB3dNMMSvIFkmcp1ZqJmgZUrNCQSsE_yQVoCWuqORMar80ymnOmjqQWpYgMCwUyAp1wdRCUCZaFmktRoscApg9CaraU8ulzjtV3bOI8K-ul8yLURc7qcExNd35nhnhuYskzqoE2wt7U1HNDnZSaVUJve00MX0vD3ccwMfzLsrDPNC2orukKaEy5UPpzkS8qp8q4NMYVKozjOGfxgQRQpZhSWalWO18Z_nUZYSgxY6VzJmKdlDXc-X0_he0DY7ZhcvgoY9_3l2nBtuYZmngrE1v7vGFP0JY5FfHOYXrsP2viFw2ByybhqkG4PrbDFJOesAgqJ4h4mvpfopHTgF8SLOoOjaIGagS3aC8aBaLRG3MW1z8TwE1ZzLs53P2c3v86-H_neH57_2Nx-whfAQkH0E0jC5g38jTy1Rab9ulBb1IGvfK15BMzFfzWRK1W1G5F-63ooBUdtqJOK-q2ot4RSjokY9h_fIVT8b3kBgT7PGMB8XG7TGmIvR6IDyTSQkucgiHxsbVZhxRr7Gg24RTfLyN-hOMPT9mKY0cuqjlrxm2HrKn4LeWegzbx38kr8b1R1-o7jjscuu7QHfW9DtkQf-h1XWtou4P-wBn0bdsefHTIm1HodT3Hsm3Pcrye1XMty_34D-TjzB0?type=png)](https://mermaid-js.github.io/mermaid-live-editor/edit#pako:eNp9VNtymzAQ_ZUd9bGOx2AbMO1kxont3Oxpbn1oSx9kLEANSB4kkjiZ_HsXYWObzKAHRqtz9mh3xe47CeWKEZ9EqXwJE5preJwEAnCpYhnndJ0AF-tCw4pqWgHlGv8JyMNG6ITRgPzdn0_xPEy54CFNdc5pqrqxfK4pTKwa4nDgCycnJ6cwQ4npq85pqMFIQJhzzXB3dNMMSvIFkmcp1ZqJmgZUrNCQSsE_yQVoCWuqORMar80ymnOmjqQWpYgMCwUyAp1wdRCUCZaFmktRoscApg9CaraU8ulzjtV3bOI8K-ul8yLURc7qcExNd35nhnhuYskzqoE2wt7U1HNDnZSaVUJve00MX0vD3ccwMfzLsrDPNC2orukKaEy5UPpzkS8qp8q4NMYVKozjOGfxgQRQpZhSWalWO18Z_nUZYSgxY6VzJmKdlDXc-X0_he0DY7ZhcvgoY9_3l2nBtuYZmngrE1v7vGFP0JY5FfHOYXrsP2viFw2ByybhqkG4PrbDFJOesAgqJ4h4mvpfopHTgF8SLOoOjaIGagS3aC8aBaLRG3MW1z8TwE1ZzLs53P2c3v86-H_neH57_2Nx-whfAQkH0E0jC5g38jTy1Rab9ulBb1IGvfK15BMzFfzWRK1W1G5F-63ooBUdtqJOK-q2ot4RSjokY9h_fIVT8b3kBgT7PGMB8XG7TGmIvR6IDyTSQkucgiHxsbVZhxRr7Gg24RTfLyN-hOMPT9mKY0cuqjlrxm2HrKn4LeWegzbx38kr8b1R1-o7jjscuu7QHfW9DtkQf-h1XWtou4P-wBn0bdsefHTIm1HodT3Hsm3Pcrye1XMty_34D-TjzB0)\n"
   ]
  },
  {
   "cell_type": "markdown",
   "id": "8ccf6f4d-8aa0-4fc0-b3df-e0da55cb212a",
   "metadata": {},
   "source": [
    "Let's take a look at a *prompt function* `extract_criteria_py` for extracting criteria. "
   ]
  },
  {
   "cell_type": "code",
   "execution_count": null,
   "id": "07b73ef1-c57c-46e7-88b1-6e9dc585bfd4",
   "metadata": {},
   "outputs": [],
   "source": [
    "extract_criteria_py = mx.get_function(\"extract_criteria_py\")['source']\n",
    "print(extract_criteria_py)"
   ]
  },
  {
   "cell_type": "markdown",
   "id": "b98ae482-daee-41b2-9aa3-f5af607a1075",
   "metadata": {},
   "source": [
    "\n",
    "This function takes in the trial's eligibility criteria, which has a free form text that might look like this:\n",
    "```\n",
    "Inclusion Criteria:\n",
    "\n",
    "* Diagnosis of Type 2 Diabetes\n",
    "* Low physical activity (\\<150 minutes/week of moderate to vigorous physical activity)\n",
    "\n",
    "Exclusion Criteria:\n",
    "\n",
    "* Cognitive deficits impeding a participant's ability to provide informed consent or participate\n",
    "* Medical conditions likely to lead to death within 6 months.\n",
    "* Pre-existing coronary artery disease\n",
    "* Moderate-severe depression (Patient Health Questionnaire-9 \\[PHQ-9\\] score ≥15)\n",
    "* Use of non-basal insulin\n",
    "* Inability to participate in physical activity due to another medical condition\n",
    "* Inability to receive text messages\n",
    "* Inability to read, write, or speak in English\n",
    "* Current participation in another intervention or program that has been designed to promote well-being or physical activity\n",
    "```\n",
    "and turns it into a structured list of `inclusion` and `exclusion` criteria:\n",
    "```\n",
    "{\n",
    " \"inclusion\" : [\n",
    "     \"Diagnosis of Type 2 Diabetes\",\n",
    "     \"Low physical activity (\\<150 minutes/week of moderate to vigorous physical activity)\",\n",
    "     ...\n",
    "   ],\n",
    "  \"exclusion\":  [\n",
    "     \"Use of non-basal insulin\",\n",
    "     \"Cognitive deficits impeding a participant's ability to provide informed consent or participate\",\n",
    "     ...\n",
    "   ],\n",
    "}\n",
    "```\n",
    "\n",
    "This demonstrates how easy it is to extract structured data from text by just describing what you want and specifying the output structure (via Python Pydantic data model)"
   ]
  },
  {
   "cell_type": "markdown",
   "id": "4f53ea16-a983-4d1c-b006-fd58b66da66a",
   "metadata": {},
   "source": [
    "Let's take a look how this works in a single example"
   ]
  },
  {
   "cell_type": "code",
   "execution_count": null,
   "id": "81755ff7-b3c8-4c4c-892e-3de91c84e041",
   "metadata": {},
   "outputs": [],
   "source": [
    "mx.query(\"\"\"WITH enroll_details AS (\n",
    "      SELECT\n",
    "        __uid__ as id,\n",
    "        protocolSection.eligibilityModule.eligibilityCriteria as eligibility\n",
    "      FROM ctg LIMIT 1\n",
    "  ),\n",
    "  extracted AS (\n",
    "      SELECT id, eligibility, extract_criteria_py(eligibility) AS criteria FROM enroll_details\n",
    "  )\n",
    "  SELECT \n",
    "    * EXCEPT(criteria), \n",
    "    UNNEST(criteria.inclusion) as inclusion, UNNEST(criteria.exclusion) as exclusion FROM extracted\n",
    "\"\"\")"
   ]
  },
  {
   "cell_type": "code",
   "execution_count": null,
   "id": "b2fabb1f-1568-421d-a458-c2b2bdde9ffa",
   "metadata": {},
   "outputs": [],
   "source": [
    "md(f\"Due to the nested structured of the output, the results is best viewed in [Memex UI]({MEMEX_INSTANCE_URL})\")"
   ]
  },
  {
   "cell_type": "code",
   "execution_count": null,
   "id": "8141208d-d5e8-46e1-9caf-8165ace63d32",
   "metadata": {},
   "outputs": [],
   "source": [
    "extract_criteria_query = mx.get_query(\"extract_criteria\")['query']\n",
    "print(extract_criteria_query)"
   ]
  },
  {
   "cell_type": "markdown",
   "id": "2aaaa811-8475-4686-84f9-f64619ed7e83",
   "metadata": {},
   "source": [
    "Now we can run this over all 100 trials criteria"
   ]
  },
  {
   "cell_type": "code",
   "execution_count": null,
   "id": "16e4eb38-a609-4dc9-858c-1c57601c3388",
   "metadata": {
    "id": "16e4eb38-a609-4dc9-858c-1c57601c3388"
   },
   "outputs": [],
   "source": [
    "mx.save_as_table(\n",
    "    \"extracted_criteria_100\",\n",
    "    extract_criteria_query,\n",
    "    model=\"gpt-3.5-turbo\",\n",
    "    max_tokens=1000,\n",
    "    temperature=0.1,\n",
    "    use_cache=True,\n",
    "    overwrite=True,\n",
    ")"
   ]
  },
  {
   "cell_type": "markdown",
   "id": "d271ca40-5d92-4e41-8d6b-401e07afd872",
   "metadata": {},
   "source": [
    "Next, we're going to cross join the inclusion/exclusion criteria with each patient in order to create  **\"patient + individual criteria\"** pairs, in preparation for the evaluation in the next stage"
   ]
  },
  {
   "cell_type": "code",
   "execution_count": null,
   "id": "dc9cf3d3-8df5-4beb-82a3-42e8925028b9",
   "metadata": {},
   "outputs": [],
   "source": [
    "join_pts_criteria = mx.get_query(\"join_pts_criteria\")['query']\n",
    "print(join_pts_criteria)"
   ]
  },
  {
   "cell_type": "code",
   "execution_count": null,
   "id": "4A_UdAEbYQRE",
   "metadata": {
    "id": "4A_UdAEbYQRE"
   },
   "outputs": [],
   "source": [
    "mx.save_as_table(\"pt_criteria_and_summary\", join_pts_criteria, overwrite=True)"
   ]
  },
  {
   "cell_type": "code",
   "execution_count": null,
   "id": "706f636b-5b93-49da-910b-e3fa5d10f92b",
   "metadata": {},
   "outputs": [],
   "source": [
    "mx.query(\"SELECT * FROM pt_criteria_and_summary ORDER BY trial_id, patient_id, criteria_type LIMIT 10\")"
   ]
  },
  {
   "cell_type": "markdown",
   "id": "c3e4c14a-72ca-41d9-af2f-076058778d38",
   "metadata": {},
   "source": [
    "# Evaluate patient medical history against trial criteria"
   ]
  },
  {
   "cell_type": "markdown",
   "id": "70KtqSDsEjAw",
   "metadata": {
    "id": "70KtqSDsEjAw"
   },
   "source": [
    "[![](https://mermaid.ink/img/pako:eNp9VNtymzAQ_ZUd9bGOx2AbMO1kxont3Jxpbn1oSx9kLEANSB4kkjiZ_HsXYUNMZuCB0eqcs9pdafeNhHLNiE-iVD6HCc01PMwCAfipYhXndJMAF5tCw5pqWgHlN_0TkPut0AmjAfnb7M9xP0y54CFNdc5pqvqxfKopTKxbziEQjfoa1QsZFgpkBDrhChrMqFiouRQleghgHCCkZispHw_iaVbncHR0DBd4wjSOcxZTzWBDNWdCA1WKKZXhUh2oL4zmssw1lDkDpXMmYp2UAey134_x-DJTyKgOE6Y-J1v9p8bZSelM50Woi7wJwBR3rzsxxFNTixydAq15qsgymm9r6qmhzkqfBuGvjU8sn5aG28QwM_xz5M-faFp8qIECGlMulIYw55phQvUhZ5WoMuZooLUoXbzonIZ6l_0n2cLIzso0Uqo1EzUFqFijIZWCf5IL0LKVIN9VcXcTU9_3V2nBduYJmniDbA-ftuwZ2jKnIt4L5of6RRs_azk4bxMuWoTLQztM8QHNWASVCCKepv6XaOK04OcE89-jUdRCjcMdOogm--zrTlmyuH5RAFflnd8u4fbn_O7Xh0e7xP2bux_XNw_wFZDwAbpqZQHLVp7GfbXEFn6819uUwaB89fKRmQp-a6NWJ2p3osNOdNSJjjtRpxN1O1HvACU9kjFsQr7GGflWcgOCwyZjAfFxuUppiAMnEO9IpIWWOBND4mN_sx4pNtjWbMYp3l9G_AiHIe6yNce2vK6mrhm-PbKh4reUDQdt4r-RF-J7k741dBx3PHbdsTsZej2yJf7Y67vW2HZHw5EzGtq2PXrvkVfjYdD3HMu2PcvxBtbAtSz3_T_LA897?type=png)](https://mermaid-js.github.io/mermaid-live-editor/edit#pako:eNp9VNtymzAQ_ZUd9bGOx2AbMO1kxont3Jxpbn1oSx9kLEANSB4kkjiZ_HsXYUNMZuCB0eqcs9pdafeNhHLNiE-iVD6HCc01PMwCAfipYhXndJMAF5tCw5pqWgHlN_0TkPut0AmjAfnb7M9xP0y54CFNdc5pqvqxfKopTKxbziEQjfoa1QsZFgpkBDrhChrMqFiouRQleghgHCCkZispHw_iaVbncHR0DBd4wjSOcxZTzWBDNWdCA1WKKZXhUh2oL4zmssw1lDkDpXMmYp2UAey134_x-DJTyKgOE6Y-J1v9p8bZSelM50Woi7wJwBR3rzsxxFNTixydAq15qsgymm9r6qmhzkqfBuGvjU8sn5aG28QwM_xz5M-faFp8qIECGlMulIYw55phQvUhZ5WoMuZooLUoXbzonIZ6l_0n2cLIzso0Uqo1EzUFqFijIZWCf5IL0LKVIN9VcXcTU9_3V2nBduYJmniDbA-ftuwZ2jKnIt4L5of6RRs_azk4bxMuWoTLQztM8QHNWASVCCKepv6XaOK04OcE89-jUdRCjcMdOogm--zrTlmyuH5RAFflnd8u4fbn_O7Xh0e7xP2bux_XNw_wFZDwAbpqZQHLVp7GfbXEFn6819uUwaB89fKRmQp-a6NWJ2p3osNOdNSJjjtRpxN1O1HvACU9kjFsQr7GGflWcgOCwyZjAfFxuUppiAMnEO9IpIWWOBND4mN_sx4pNtjWbMYp3l9G_AiHIe6yNce2vK6mrhm-PbKh4reUDQdt4r-RF-J7k741dBx3PHbdsTsZej2yJf7Y67vW2HZHw5EzGtq2PXrvkVfjYdD3HMu2PcvxBtbAtSz3_T_LA897)\n"
   ]
  },
  {
   "cell_type": "markdown",
   "id": "d0c2cd03-27c3-4808-873b-62c06b5dfba0",
   "metadata": {},
   "source": [
    "Let's take a look at how we can ask LLM to do clinical trials matching using the top performing prompt from \n",
    "the Shah Lab paper [Zero-Shot Clinical Trial Patient Matching with LLMs](https://arxiv.org/pdf/2402.05125.pdf)\n",
    "\n"
   ]
  },
  {
   "cell_type": "code",
   "execution_count": null,
   "id": "b393deab-7014-4acf-9d9d-32423779787e",
   "metadata": {},
   "outputs": [],
   "source": [
    "shah_individual_py = mx.get_function(\"shah_individual_py\")['source']\n",
    "print(shah_individual_py)"
   ]
  },
  {
   "cell_type": "markdown",
   "id": "7adf595b-8872-4a36-8947-6468f1f0947f",
   "metadata": {},
   "source": [
    "Let's try it out on some of our data"
   ]
  },
  {
   "cell_type": "code",
   "execution_count": null,
   "id": "60bd50ea-a162-448b-b1b3-a5f2600cda53",
   "metadata": {},
   "outputs": [],
   "source": [
    "mx.query(\"\"\"\n",
    "WITH eval AS (\n",
    "    SELECT\n",
    "      trial_id\n",
    "      , patient_id\n",
    "      , criteria_type\n",
    "      , criterion\n",
    "      , pt_summary\n",
    "      , shah_individual_py(pt_summary, criterion) as assessment\n",
    "    FROM pt_criteria_and_summary LIMIT 2\n",
    ")\n",
    "SELECT * EXCEPT(assessment), assessment.* FROM eval\"\"\")"
   ]
  },
  {
   "cell_type": "markdown",
   "id": "996d07dc-1c4f-4561-b954-afd1f7dd035c",
   "metadata": {},
   "source": [
    "We can see that the LLM made an decision `is_met`, including the `confidence` level and `rationale`. \n",
    "You can also better see the result's structure by looking at it in the MemexUI.\n",
    "\n",
    "We will now run the evaluation query against a larger set of patients and criteria."
   ]
  },
  {
   "cell_type": "code",
   "execution_count": null,
   "id": "e791f4ae-6bd7-4dce-a7d4-4f72c8bdb5c0",
   "metadata": {},
   "outputs": [],
   "source": [
    "eval_patients_query = mx.get_query(\"eval_patients\")['query']\n",
    "print(eval_patients_query)"
   ]
  },
  {
   "cell_type": "code",
   "execution_count": null,
   "id": "VQiloaiwYRFz",
   "metadata": {
    "id": "VQiloaiwYRFz"
   },
   "outputs": [],
   "source": [
    "mx.save_as_table(\n",
    "    \"evaled_pts\",\n",
    "    eval_patients_query,\n",
    "    model=\"gpt-3.5-turbo\",\n",
    "    max_tokens=2000,\n",
    "    temperature=0.1,\n",
    "    use_cache=True,\n",
    "    overwrite=True,\n",
    ")"
   ]
  },
  {
   "cell_type": "markdown",
   "id": "0319bc8f-1562-4d84-ace1-f5275c9a41f2",
   "metadata": {},
   "source": [
    "Next, we're going to aggregate all the matching decisions per patients"
   ]
  },
  {
   "cell_type": "code",
   "execution_count": null,
   "id": "077a228f-0391-4612-927c-e868f67520fa",
   "metadata": {},
   "outputs": [],
   "source": [
    "aggregate_criteria_query = mx.get_query(\"aggregate_criteria\")['query']\n",
    "print(aggregate_criteria_query)"
   ]
  },
  {
   "cell_type": "code",
   "execution_count": null,
   "id": "27896761-1eb9-4ff3-ac1c-f0e927bfcf8f",
   "metadata": {
    "id": "27896761-1eb9-4ff3-ac1c-f0e927bfcf8f"
   },
   "outputs": [],
   "source": [
    "mx.save_as_table(\"assessed_pts\", aggregate_criteria_query, overwrite=True)"
   ]
  },
  {
   "cell_type": "code",
   "execution_count": null,
   "id": "42d05427-ce96-4736-848e-6e8b1f311a83",
   "metadata": {},
   "outputs": [],
   "source": [
    "mx.query(\"SELECT * FROM assessed_pts\")"
   ]
  },
  {
   "cell_type": "markdown",
   "id": "0140a593-3726-46eb-9c97-404822f8c92b",
   "metadata": {},
   "source": [
    "In MemexUI, you can browse the aggregated result and inspect the nested structure for each patient."
   ]
  },
  {
   "cell_type": "markdown",
   "id": "ffb37870-bef4-492d-88c1-bb08262b438e",
   "metadata": {},
   "source": [
    "Now, we will calculate the match patient score for `inclusion` and `exclusion` criteria as follows:\n",
    "- `inclusion_score` = `# inclusion met` / `total # of inclusion criteria`\n",
    "- `exclusion_score` = `# exclusion unmet` / `total # of exclusion criteria`\n",
    "\n",
    "This is encoded in the `match_pts` Python UDF below"
   ]
  },
  {
   "cell_type": "code",
   "execution_count": null,
   "id": "6703ccfd-bb14-4e22-840e-881142d1734d",
   "metadata": {},
   "outputs": [],
   "source": [
    "print(mx.get_function(\"match_pts\")['source'])"
   ]
  },
  {
   "cell_type": "markdown",
   "id": "a3eba4f4-006b-4372-8cfb-e1865ef0040e",
   "metadata": {},
   "source": [
    "Let's calculate the match score for our dataset"
   ]
  },
  {
   "cell_type": "code",
   "execution_count": null,
   "id": "fab2162c-f2e1-40b1-96b4-1aa8ceb38542",
   "metadata": {},
   "outputs": [],
   "source": [
    "match_pts_query = mx.get_query(\"match_pts\")['query']\n",
    "print(match_pts_query)"
   ]
  },
  {
   "cell_type": "code",
   "execution_count": null,
   "id": "19930d1c-90b5-431b-a05b-3fa2a247c31f",
   "metadata": {
    "id": "19930d1c-90b5-431b-a05b-3fa2a247c31f"
   },
   "outputs": [],
   "source": [
    "mx.save_as_table(\"pt_trial_match_scores\", match_pts_query, overwrite=True)"
   ]
  },
  {
   "cell_type": "code",
   "execution_count": null,
   "id": "IfFsQ3jAiBnc",
   "metadata": {
    "id": "IfFsQ3jAiBnc"
   },
   "outputs": [],
   "source": [
    "mx.query(\"SELECT *, matches.inclusion_score, matches.exclusion_score FROM pt_trial_match_scores ORDER BY matches.inclusion_score DESC, matches.exclusion_score DESC\")"
   ]
  },
  {
   "cell_type": "code",
   "execution_count": null,
   "id": "a2c4a29e-a533-481c-ac6c-784892f8a411",
   "metadata": {},
   "outputs": [],
   "source": [
    "md(f\"You can explore the full match results in details in [MemexUI]({MEMEX_INSTANCE_URL})\")"
   ]
  },
  {
   "cell_type": "code",
   "execution_count": null,
   "id": "d303cf6c-c6b7-4bce-a1aa-3a59ce528dee",
   "metadata": {},
   "outputs": [],
   "source": []
  }
 ],
 "metadata": {
  "colab": {
   "provenance": []
  },
  "kernelspec": {
   "display_name": "Python 3 (ipykernel)",
   "language": "python",
   "name": "python3"
  },
  "language_info": {
   "codemirror_mode": {
    "name": "ipython",
    "version": 3
   },
   "file_extension": ".py",
   "mimetype": "text/x-python",
   "name": "python",
   "nbconvert_exporter": "python",
   "pygments_lexer": "ipython3",
   "version": "3.10.13"
  }
 },
 "nbformat": 4,
 "nbformat_minor": 5
}
