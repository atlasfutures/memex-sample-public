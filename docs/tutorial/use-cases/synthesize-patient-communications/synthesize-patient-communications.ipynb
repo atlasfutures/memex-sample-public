{
 "cells": [
  {
   "cell_type": "markdown",
   "id": "3ebb1866-d779-414a-93f2-6d02cd6c9da4",
   "metadata": {},
   "source": [
    "# Synthesize Patient Communications\n",
    "\n",
    "This notebook demonstrates how to leverage Memex to synthesize and analyze patient communications effectively. Through a series of steps, we'll explore how to preprocess healthcare data, utilize Memex's capabilities to query and transform this data, and finally, synthesize patient communications using Memex's unique integration of User-Defined Functions (UDFs) with SQL queries. This approach showcases the power of Memex in handling complex data processing and analysis tasks in the healthcare domain.\n"
   ]
  },
  {
   "cell_type": "markdown",
   "id": "8a95e8c6-f48c-41ba-b432-b5bfc8dde84f",
   "metadata": {},
   "source": [
    "<a href=\"https://colab.research.google.com/github/atlasfutures/memex-sample-public/blob/main/docs/tutorial/tutorials/synthesize-patient-communications/synthesize-patient-communications.ipynb\" target=\"_parent\"><img src=\"https://colab.research.google.com/assets/colab-badge.svg\" alt=\"Open In Colab\"/></a>\n"
   ]
  },
  {
   "cell_type": "markdown",
   "id": "e1fff843",
   "metadata": {},
   "source": [
    "### Preparing the dataset\n",
    "\n",
    "The first step involves downloading and preparing a synthetic patient dataset for analysis. This dataset, provided by Synthea, offers a rich collection of synthetic patient records that we can use to simulate real-world healthcare data processing and analysis scenarios.\n"
   ]
  },
  {
   "cell_type": "code",
   "execution_count": null,
   "id": "481aa2c6-e72a-47bb-a467-99dabf892cc7",
   "metadata": {},
   "outputs": [],
   "source": [
    "!mkdir ./data; \\\n",
    "    wget https://synthetichealth.github.io/synthea-sample-data/downloads/synthea_sample_data_csv_apr2020.zip --directory-prefix=./data/; \\\n",
    "    unzip ./data/synthea_sample_data_csv_apr2020.zip -d ./data/; \\\n",
    "    mv ./data/csv/* ./data/; \\\n",
    "    rm -rf ./data/csv/; \\\n",
    "    rm ./data/*zip"
   ]
  },
  {
   "cell_type": "markdown",
   "id": "1b1c7c27",
   "metadata": {},
   "source": [
    "Before proceeding, ensure that the Memex library is installed in your environment. This library provides the necessary tools and functions to interact with the Memex platform.\n"
   ]
  },
  {
   "cell_type": "code",
   "execution_count": null,
   "id": "0c6bc434-5b91-4e29-a706-b78ba4fa6d24",
   "metadata": {},
   "outputs": [],
   "source": [
    "!pip install -q memexdata"
   ]
  },
  {
   "cell_type": "markdown",
   "id": "62cc8e56",
   "metadata": {},
   "source": [
    "### Configuring Memex Connection\n",
    "\n",
    "To interact with Memex, set up your instance URL and API key. These credentials are essential for authenticating and establishing a connection with your Memex instance.\n"
   ]
  },
  {
   "cell_type": "code",
   "execution_count": null,
   "id": "cf3fc8d9-e4ac-44e3-a19d-63a559b7ca0c",
   "metadata": {
    "editable": true,
    "slideshow": {
     "slide_type": ""
    },
    "tags": [
     "parameters"
    ]
   },
   "outputs": [],
   "source": [
    "MEMEX_INSTANCE_URL = \"https://<YOUR_INSTANCE>.memexdata.com\"\n",
    "MEMEX_API_KEY = \"<YOUR_API_KEY>\""
   ]
  },
  {
   "cell_type": "markdown",
   "id": "306422ce",
   "metadata": {},
   "source": [
    "With the credentials set, instantiate a MemexSession object. This object will serve as your gateway to interacting with Memex, allowing you to perform data uploads, queries, and more.\n"
   ]
  },
  {
   "cell_type": "code",
   "execution_count": null,
   "id": "87d1d9a1-79e0-4144-8372-3c107b573c2f",
   "metadata": {},
   "outputs": [],
   "source": [
    "import os\n",
    "from pathlib import Path\n",
    "\n",
    "from memex import MemexSession\n",
    "\n",
    "mx = MemexSession(MEMEX_INSTANCE_URL, api_key=MEMEX_API_KEY, verify_ssl=False)"
   ]
  },
  {
   "cell_type": "markdown",
   "id": "34060662",
   "metadata": {},
   "source": [
    "### Uploading the Dataset to Memex\n",
    "\n",
    "To analyze the patient data, first upload it to Memex. The following code identifies non-empty files within the dataset and uploads them to your Memex instance, making them available for querying and analysis.\n"
   ]
  },
  {
   "cell_type": "code",
   "execution_count": null,
   "id": "bb3d053a-c96c-4545-9c6d-116d5eaafa1c",
   "metadata": {},
   "outputs": [],
   "source": [
    "def absoluteFilePaths(directory):\n",
    "    for dirpath, _, filenames in os.walk(directory):\n",
    "        for f in filenames:\n",
    "            yield os.path.abspath(os.path.join(dirpath, f))\n",
    "\n",
    "\n",
    "base_path = \"./data/\"\n",
    "\n",
    "for fpath in absoluteFilePaths(base_path):\n",
    "    non_empty = lambda file_path: any(\n",
    "        line_count > 2 for line_count in [sum(1 for _ in open(file_path, \"r\"))]\n",
    "    )\n",
    "    if non_empty(fpath):\n",
    "        print(f\"Uploading {fpath}\")\n",
    "        mx.upload_dataset(open(fpath), Path(fpath).name)"
   ]
  },
  {
   "cell_type": "markdown",
   "id": "956f7458",
   "metadata": {},
   "source": [
    "### Querying Patient Data\n",
    "\n",
    "After uploading the data, the next step involves querying this data to select a sample of patient records. The following complex SQL join multiple related tables to form a single patient medical record, which includes patient demographics, encounters, conditions, and observations.\n"
   ]
  },
  {
   "cell_type": "code",
   "execution_count": null,
   "id": "397f5bfd-1831-4375-b2a5-b15ab3572724",
   "metadata": {},
   "outputs": [],
   "source": [
    "query = \"\"\"\n",
    "WITH patient_sample AS (\n",
    "  SELECT * FROM patients p JOIN conditions c ON p.id = c.patient\n",
    "  -- WHERE lower(description) LIKE '%%'\n",
    "  ORDER BY RANDOM() \n",
    "  LIMIT 250\n",
    "),\n",
    "patient_encounters AS (\n",
    "  SELECT \n",
    "    p.id as patient_id\n",
    "    , p.birthdate\n",
    "    , list({\n",
    "        'id' : e.id\n",
    "        , 'encounterclass': e.encounterclass\n",
    "        , 'desc': e.description\n",
    "        , 'start' : CAST(e.start as DATE)\n",
    "        , 'end' : CAST(e.stop as DATE)\n",
    "        , 'reason_code': e.reasoncode\n",
    "        , 'reason_desc': e.reasondescription\n",
    "        , 'provider_id': pr.id\n",
    "        , 'provider_name': pr.name\n",
    "    }) as encounter_list\n",
    "  FROM patients p\n",
    "  JOIN encounters e ON e.patient = p.id\n",
    "  JOIN providers pr ON e.provider = pr.id\n",
    "  GROUP BY p.id, p.birthdate\n",
    "),\n",
    "patient_conditions AS (\n",
    "  SELECT \n",
    "    p.id as patient_id\n",
    "    , p.birthdate\n",
    "     , list({\n",
    "      'id' : c.code\n",
    "      , 'desc' : c.description\n",
    "      , 'start' : CAST(c.start as DATE)\n",
    "      , 'end' : CAST(c.stop as DATE)\n",
    "  }) as condition_list\n",
    "  FROM patients p\n",
    "  JOIN conditions c ON c.patient = p.id\n",
    "  GROUP BY p.id, p.birthdate\n",
    " ),\n",
    "patient_medications AS (\n",
    "  SELECT \n",
    "    p.id as patient_id\n",
    "    , p.birthdate\n",
    "     , list({\n",
    "      'id' : m.code\n",
    "      , 'desc' : m.description\n",
    "      , 'start' : CAST(m.start as DATE)\n",
    "      , 'end' : CAST(m.stop as DATE)\n",
    "      , 'medication_reason_code': m.reasoncode\n",
    "      , 'reason_desc': m.reasondescription\n",
    "    }) as medication_list\n",
    "  FROM patients p\n",
    "  JOIN medications m ON m.patient = p.id\n",
    "  GROUP BY p.id, p.birthdate\n",
    "),\n",
    "patients_joined AS (\n",
    "  SELECT \n",
    "    p.id as id\n",
    "    , p.first as first\n",
    "    , p.last as last\n",
    "    , p.birthdate as birthdate\n",
    "    , e.encounter_list as encounter_list\n",
    "    , c.condition_list as condition_list\n",
    "    , m.medication_list as medication_list\n",
    "  FROM\n",
    "    patient_sample p\n",
    "    JOIN patient_encounters e ON p.id = e.patient_id\n",
    "    JOIN patient_conditions c ON p.id = c.patient_id\n",
    "    JOIN patient_medications m ON p.id = m.patient_id\n",
    ")\n",
    "SELECT * FROM patients_joined LIMIT 100\n",
    "\"\"\""
   ]
  },
  {
   "cell_type": "markdown",
   "id": "fc138007",
   "metadata": {},
   "source": [
    "The result of this query is saved as a new table, patients_joined, within Memex. This table will be used in subsequent steps for further analysis and transformation.\n"
   ]
  },
  {
   "cell_type": "code",
   "execution_count": null,
   "id": "a8aac661-1955-4f34-b9e3-6464c4de503a",
   "metadata": {},
   "outputs": [],
   "source": [
    "mx.save_as_table(\"patients_joined\", query, overwrite=True)"
   ]
  },
  {
   "cell_type": "markdown",
   "id": "af6b460b",
   "metadata": {},
   "source": [
    "### Defining a User-Defined Function (UDF) for Data Transformation\n",
    "\n",
    "Memex supports the creation of User-Defined Functions (UDFs) that can be used within SQL queries. Here, we define a UDF `format_patient_history`, which takes various patient details as input and formats them into a comprehensive patient history summary. This function showcases the flexibility of Memex in processing and transforming data according to custom logic.\n"
   ]
  },
  {
   "cell_type": "code",
   "execution_count": null,
   "id": "cdcf1efd-5183-4822-bc17-750d774bce07",
   "metadata": {},
   "outputs": [],
   "source": [
    "from pydantic import BaseModel\n",
    "from datetime import datetime\n",
    "from typing import List\n",
    "\n",
    "\n",
    "class Encounter(BaseModel):\n",
    "    id: str\n",
    "    encounterclass: str\n",
    "    desc: str\n",
    "    start: datetime\n",
    "    end: datetime\n",
    "    reason_code: float\n",
    "    reason_desc: str\n",
    "    provider_id: str\n",
    "    provider_name: str\n",
    "\n",
    "\n",
    "class Condition(BaseModel):\n",
    "    id: int\n",
    "    desc: str\n",
    "    start: datetime\n",
    "    end: datetime\n",
    "\n",
    "\n",
    "class Medication(BaseModel):\n",
    "    id: int\n",
    "    desc: str\n",
    "    start: datetime\n",
    "    end: datetime\n",
    "    medication_reason_code: float\n",
    "    reason_desc: str\n",
    "\n",
    "\n",
    "@mx.udf\n",
    "def format_patient_history(\n",
    "    first: str,\n",
    "    last: str,\n",
    "    birthdate: str,\n",
    "    encounter_list: List[Encounter],\n",
    "    condition_list: List[Condition],\n",
    "    medication_list: List[Medication],\n",
    ") -> str:\n",
    "    import random\n",
    "\n",
    "    # Convert BaseModel instances to dicts manually and exclude 'id' key\n",
    "    encounter_dicts = [\n",
    "        {k: v for k, v in e.items() if k != \"id\"} for e in encounter_list\n",
    "    ]\n",
    "    condition_dicts = [\n",
    "        {k: v for k, v in c.items() if k != \"id\"} for c in condition_list\n",
    "    ]\n",
    "    medication_dicts = [\n",
    "        {k: v for k, v in m.items() if k != \"id\"} for m in medication_list\n",
    "    ]\n",
    "\n",
    "    # sort the histories in reverse chronological order by start date\n",
    "    encounter_dicts = sorted(encounter_dicts, key=lambda x: x[\"start\"], reverse=True)\n",
    "    condition_dicts = sorted(condition_dicts, key=lambda x: x[\"start\"], reverse=True)\n",
    "    medication_dicts = sorted(medication_dicts, key=lambda x: x[\"start\"], reverse=True)\n",
    "\n",
    "    # select the most recent encounter that has a reason description\n",
    "    most_recent_reason = next(\n",
    "        (e[\"reason_desc\"] for e in encounter_dicts if e[\"reason_desc\"]), None\n",
    "    )\n",
    "\n",
    "    # get the date of the most recent encounter\n",
    "    most_recent_encounter_date = (\n",
    "        encounter_dicts[0][\"start\"] if encounter_dicts else None\n",
    "    )\n",
    "\n",
    "    # get the provider name of the most recent encounter\n",
    "    most_recent_provider = (\n",
    "        encounter_dicts[0][\"provider_name\"] if encounter_dicts else None\n",
    "    )\n",
    "\n",
    "    # filter the condition and medication lists to only include items that occurred before the most recent encounter\n",
    "    condition_dicts = [\n",
    "        c for c in condition_dicts if c[\"start\"] < most_recent_encounter_date\n",
    "    ]\n",
    "    medication_dicts = [\n",
    "        m for m in medication_dicts if m[\"start\"] < most_recent_encounter_date\n",
    "    ]\n",
    "\n",
    "    # get a list of active medications by their description\n",
    "    active_medications = [m[\"desc\"] for m in medication_dicts if m[\"end\"] is None]\n",
    "\n",
    "    # Format the active medications into a list. If the list is empty, return a message indicating that there are no active medications\n",
    "    formatted_medications = \"Active medications\\n\"\n",
    "    formatted_medications += (\n",
    "        \"\\n\".join(active_medications) if active_medications else \"No active medications\"\n",
    "    )\n",
    "\n",
    "    # group encounters by reason and encounter class, with a list of dates on which those encounter types occurred\n",
    "    # exclude reasons that are \"None\" or empty strings\n",
    "    encounter_reasons = {}\n",
    "    for e in encounter_dicts:\n",
    "        if e[\"reason_desc\"] and e[\"reason_desc\"] not in encounter_reasons:\n",
    "            encounter_reasons[e[\"reason_desc\"]] = {}\n",
    "        if e[\"reason_desc\"]:\n",
    "            if e[\"encounterclass\"] not in encounter_reasons[e[\"reason_desc\"]]:\n",
    "                encounter_reasons[e[\"reason_desc\"]][e[\"encounterclass\"]] = []\n",
    "            encounter_reasons[e[\"reason_desc\"]][e[\"encounterclass\"]].append(e[\"start\"])\n",
    "\n",
    "    # format the encounter reasons + classes and dates into a string, only include the month and year of the date (which is str format) in the format MM/DD\n",
    "    formatted_encounter_reasons = \"Encounter reasons\\n\"\n",
    "    for reason, classes in encounter_reasons.items():\n",
    "        formatted_encounter_reasons += f\"{reason}\\n\"\n",
    "        for cls, dates in classes.items():\n",
    "            formatted_encounter_reasons += f\"  {cls}: {', '.join(dates)}\\n\"\n",
    "\n",
    "    # get a list of active conditions by their description\n",
    "    active_conditions = [c[\"desc\"] for c in condition_dicts if c[\"end\"] is None]\n",
    "\n",
    "    # Format the active conditions into a string. If the list is empty, return a message indicating that there are no active conditions\n",
    "    formatted_conditions = \"Active conditions\\n\"\n",
    "    formatted_conditions += (\n",
    "        \"\\n\".join(active_conditions) if active_conditions else \"No active conditions\"\n",
    "    )\n",
    "\n",
    "    summary = f\"\"\"{first} {last}, born on {birthdate}, is communicating with their healthcare provider, {most_recent_provider}, about \"{most_recent_reason}\". \n",
    "    \n",
    "## Below is a summary of their healthcare history:\n",
    "\n",
    "### {formatted_medications}\n",
    "\n",
    "### {formatted_encounter_reasons} \n",
    " \n",
    "### {formatted_conditions}\"\"\"\n",
    "\n",
    "    return summary"
   ]
  },
  {
   "cell_type": "markdown",
   "id": "6f86246d",
   "metadata": {},
   "source": [
    "Using the newly defined UDF, we transform the patient data into a formatted history summary. This transformation is performed by a SQL query that invokes our UDF, illustrating the seamless integration between SQL and custom Python logic in Memex.\n"
   ]
  },
  {
   "cell_type": "code",
   "execution_count": null,
   "id": "9acfd68a-2897-4a34-acb0-266ab8aeffb5",
   "metadata": {},
   "outputs": [],
   "source": [
    "format_query = \"\"\"\n",
    "SELECT \n",
    "  id, \n",
    "  format_patient_history(first, last, birthdate, encounter_list, condition_list, medication_list) as pt_hist \n",
    "FROM patients_joined\"\"\""
   ]
  },
  {
   "cell_type": "markdown",
   "id": "96c20ae3",
   "metadata": {},
   "source": [
    "The result is saved as a new table, `patient_histories_formatted`, which contains the formatted patient histories ready for further analysis.\n"
   ]
  },
  {
   "cell_type": "code",
   "execution_count": null,
   "id": "d53cc9b6",
   "metadata": {},
   "outputs": [],
   "source": [
    "mx.save_as_table(\"patient_histories_formatted\", format_query, overwrite=True)"
   ]
  },
  {
   "cell_type": "markdown",
   "id": "f3b74cca",
   "metadata": {},
   "source": [
    "### Synthesizing Patient Communications\n",
    "\n",
    "The final step involves synthesizing patient communications based on the formatted patient histories. This process is facilitated by defining a prompt function, `summarize_patient_history`, which leverages Memex's ability to integrate with language models for generating natural language summaries.\n"
   ]
  },
  {
   "cell_type": "code",
   "execution_count": null,
   "id": "9440e231-baa4-4dbc-b54c-5bcd25bffde5",
   "metadata": {},
   "outputs": [],
   "source": [
    "@mx.prompt\n",
    "def summarize_patient_history(patient_history: str) -> str:\n",
    "    \"\"\"Summarize the following patient history:\n",
    "    {patient_history}\n",
    "    \"\"\""
   ]
  },
  {
   "cell_type": "markdown",
   "id": "e5d1e7ab",
   "metadata": {},
   "source": [
    "There are multiple LLM models available in Memex and you can see which one are available.\n"
   ]
  },
  {
   "cell_type": "code",
   "execution_count": null,
   "id": "dd6b2531-795a-4082-b60c-7f2dd99f86fd",
   "metadata": {},
   "outputs": [],
   "source": [
    "mx.get_models()"
   ]
  },
  {
   "cell_type": "markdown",
   "id": "3192957c",
   "metadata": {},
   "source": [
    "By executing a SQL query that invokes this `summarize_patient_history` function, we generate concise summaries of patient histories. These summaries simulate patient communications, showcasing Memex's powerful capabilities in natural language generation and data synthesis.\n"
   ]
  },
  {
   "cell_type": "code",
   "execution_count": null,
   "id": "ec1249e0-36a3-4231-a9f6-f85f8144391c",
   "metadata": {},
   "outputs": [],
   "source": [
    "summarize_query = \"\"\"\n",
    "WITH patients AS (\n",
    "    SELECT *\n",
    "    FROM patient_histories_formatted\n",
    "    LIMIT 100\n",
    ")\n",
    "SELECT id , summarize_patient_history(pt_hist) as pt_hist_summary FROM patients LIMIT 10\n",
    "\"\"\"\n",
    "\n",
    "mx.save_as_table(\n",
    "    \"patient_histories_summarized\",\n",
    "    summarize_query,\n",
    "    model=\"gpt-4-1106-preview\",\n",
    "    temperature=0.2,\n",
    "    max_tokens=1000,\n",
    "    overwrite=True,\n",
    ")"
   ]
  },
  {
   "cell_type": "markdown",
   "id": "fe39de94",
   "metadata": {},
   "source": [
    "### Creating Patient Portal Messages\n",
    "\n",
    "To simulate a scenario where a patient initiates communication with their healthcare provider, we define the Prompt Function `create_portal_message`. This function takes a patient summary as input and generates a message that a patient might send to their healthcare provider through a patient portal. The aim is to use colloquial language to express concerns or questions about their health, showcasing Memex's capabilities in generating contextually appropriate and natural-sounding text.\n"
   ]
  },
  {
   "cell_type": "code",
   "execution_count": null,
   "id": "738fd059-0ef2-4d48-b78b-2faca8212d03",
   "metadata": {},
   "outputs": [],
   "source": [
    "@mx.prompt\n",
    "def create_portal_message(patient_summary: str) -> str:\n",
    "    \"\"\"Your instructions are to write a message to your healthcare provider as if you are the patient summarized below.\n",
    "    - You are messaging them with questions about your current health issue, which may be symptoms, billing issues, prescription issues, etc.\n",
    "    - Use colloquial language and be concise. Do not use sophisticated medical terms.\n",
    "\n",
    "    Patient Summary:\n",
    "    {patient_summary}\n",
    "    \"\"\""
   ]
  },
  {
   "cell_type": "markdown",
   "id": "3b76cf49",
   "metadata": {},
   "source": [
    "### Generating Portal Communications\n",
    "\n",
    "With the `create_portal_message` defined, the next step is to apply it to the patient histories we've summarized. This is achieved through a SQL query that invokes the UDF for each patient summary, generating a simulated message that the patient might send to their healthcare provider. The query illustrates how Memex can be used to automate the generation of realistic, context-specific communications, further enhancing its utility in healthcare data analysis and patient engagement strategies.\n"
   ]
  },
  {
   "cell_type": "code",
   "execution_count": null,
   "id": "a27e3c7b-1a14-4d6f-b1c8-e6de24e99004",
   "metadata": {},
   "outputs": [],
   "source": [
    "portal_query = \"\"\"\n",
    "WITH patients AS (\n",
    "    SELECT id, pt_hist_summary\n",
    "    FROM patient_histories_summarized\n",
    ")\n",
    "SELECT id, create_portal_message(pt_hist_summary) as portal_communication \n",
    "FROM patients LIMIT 10\n",
    "\"\"\"\n",
    "\n",
    "mx.save_as_table(\n",
    "    \"portal_communications\",\n",
    "    portal_query,\n",
    "    model=\"gpt-4-1106-preview\",\n",
    "    temperature=0.2,\n",
    "    max_tokens=1000,\n",
    "    overwrite=True,\n",
    ")"
   ]
  },
  {
   "cell_type": "markdown",
   "id": "9c31cbff-778e-4b4d-8238-0eebfe75f376",
   "metadata": {},
   "source": [
    "The result of this query, saved as the portal_communications table, contains the generated messages from patients to their healthcare providers. This showcases the final step in our journey of synthesizing patient communications using Memex, from data preprocessing, through analysis and summary generation, to the final personalized patient-provider messages.\n"
   ]
  },
  {
   "cell_type": "markdown",
   "id": "8f39e985",
   "metadata": {},
   "source": [
    "### Conclusion\n",
    "\n",
    "This tutorial has walked you through a comprehensive example of utilizing Memex for synthesizing patient communications. Starting from the preparation of a synthetic patient dataset, through querying and transforming this data, to finally generating and personalizing patient-provider communications, we've demonstrated how Memex supports complex data processing tasks. The integration of User-Defined Functions (UDFs) with SQL, coupled with the power of language models, positions Memex as a versatile tool for healthcare data analysis, capable of generating insights and communications that can enhance patient engagement and provider responsiveness.\n"
   ]
  }
 ],
 "metadata": {
  "kernelspec": {
   "display_name": "memex_user",
   "language": "python",
   "name": "memex_user"
  },
  "language_info": {
   "codemirror_mode": {
    "name": "ipython",
    "version": 3
   },
   "file_extension": ".py",
   "mimetype": "text/x-python",
   "name": "python",
   "nbconvert_exporter": "python",
   "pygments_lexer": "ipython3",
   "version": "3.11.8"
  }
 },
 "nbformat": 4,
 "nbformat_minor": 5
}
