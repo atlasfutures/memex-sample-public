{
 "cells": [
  {
   "cell_type": "markdown",
   "id": "892e1722-8b64-49c9-9824-ba26640f4cfc",
   "metadata": {
    "id": "892e1722-8b64-49c9-9824-ba26640f4cfc"
   },
   "source": [
    "<a href=\"https://colab.research.google.com/github/atlasfutures/memex/blob/docs_private/docs/tutorial/tutorials/clinical-trials-matching/Clinical_Trials_Matching.ipynb\" target=\"_parent\"><img src=\"https://colab.research.google.com/assets/colab-badge.svg\" alt=\"Open In Colab\"/></a>\n"
   ]
  },
  {
   "cell_type": "markdown",
   "id": "0fa5773b-a959-4dfe-bb3a-c05fd958ef8f",
   "metadata": {
    "id": "0fa5773b-a959-4dfe-bb3a-c05fd958ef8f"
   },
   "source": [
    "# Match Patients to Clinical Trials\n",
    "\n",
    "### An implementation of [Zero-Shot Clinical Trial Patient Matching with LLMs](https://arxiv.org/pdf/2402.05125.pdf) from Stanford Medicine's Shah Lab using Memex\n"
   ]
  },
  {
   "cell_type": "markdown",
   "id": "jxTozKHn4v4j",
   "metadata": {
    "id": "jxTozKHn4v4j"
   },
   "source": [
    "# Introduction\n",
    "\n",
    "This tutorial outlines the process of matching patients to clinical trials following Stanford's SOTA research on the topic using the Memex SDK in a Python environment. It begins with the installation of the Memex SDK and the loading of synthetic patient data and clinical trials data from Google Drive. The document then details the process of uploading this data to the Memex platform.\n",
    "\n",
    "The below data diagram illustrates the full analytics pipeline this notebook implements.\n"
   ]
  },
  {
   "cell_type": "markdown",
   "id": "KgyeBgLF7z4e",
   "metadata": {
    "id": "KgyeBgLF7z4e"
   },
   "source": [
    "[![](https://mermaid.ink/img/pako:eNp9VNty2jAQ_ZUd9bGEAYMvuJ3MkAC5kWlufWjrPihGttXIEmPJaUgm_961TAy4M9aTjs7Zs961tG8kVitGQpII9TfOaGHgYRZJwKXLx7Sg6wy4XJcGVtTQmqjW9FdE7jfSZIxG5PfufI7nseCSx1SYglOh-6l6biRMrurNFI6OjuGkcjFFGZuyYLCmhjO5zfQRMUchKheonL-YgsYGrC_EBTcMd43yxFqeonChipwaoI2jLvOcFptGemqlsyq7ZfjrLnvGtVF72oXVnlW2ghrDZJMZqFwhUFrDH8UlGNVKyJlubGbW5rwq45mKkpomowaaUi61-b-kszqoBucWXKDDNE0Llu5ZANWaaZ1Xbk3whdVfVkXGCturTcFkajJQSRP39Ri27cSGxdne98I0DMNHUbItPEGIWZnc4tMWniFWBZXpR8D8MH7R5s9aBudtwUVLcHmIY4FFz1gCdRAkXIjwUzLxWrTgaWYONUnS0ljbLTtIJpFsvYAlS5ubC3BVtfR2Cbff53c_9m7_Es9v7r5d3zzAZ0DBHnXVqgWWrWqtfb3F1_N0bzaCwaD6Z-qJ2T5-abPDTtbpZEed7LiTdTtZr5P1O9nggCU9kjN8yHyF4-mt0kYE503OIhLi9lHQ-CkikXxHIS2NwnEUkxCnCeuRco1DhM04xf-XkzDBOYSnbMXxJlzXA8_OvR5ZU_lTqZ0GMQnfyAsJg0l_OPI833V93_Uno6BHNiR0g74_dB1_PBp745HjOOP3Hnm1DoN-4A0dJxi6g_HAGzl-8P4PPLGuSw?type=png)](https://mermaid-js.github.io/mermaid-live-editor/edit#pako:eNp9VNty2jAQ_ZUd9bGEAYMvuJ3MkAC5kWlufWjrPihGttXIEmPJaUgm_961TAy4M9aTjs7Zs961tG8kVitGQpII9TfOaGHgYRZJwKXLx7Sg6wy4XJcGVtTQmqjW9FdE7jfSZIxG5PfufI7nseCSx1SYglOh-6l6biRMrurNFI6OjuGkcjFFGZuyYLCmhjO5zfQRMUchKheonL-YgsYGrC_EBTcMd43yxFqeonChipwaoI2jLvOcFptGemqlsyq7ZfjrLnvGtVF72oXVnlW2ghrDZJMZqFwhUFrDH8UlGNVKyJlubGbW5rwq45mKkpomowaaUi61-b-kszqoBucWXKDDNE0Llu5ZANWaaZ1Xbk3whdVfVkXGCturTcFkajJQSRP39Ri27cSGxdne98I0DMNHUbItPEGIWZnc4tMWniFWBZXpR8D8MH7R5s9aBudtwUVLcHmIY4FFz1gCdRAkXIjwUzLxWrTgaWYONUnS0ljbLTtIJpFsvYAlS5ubC3BVtfR2Cbff53c_9m7_Es9v7r5d3zzAZ0DBHnXVqgWWrWqtfb3F1_N0bzaCwaD6Z-qJ2T5-abPDTtbpZEed7LiTdTtZr5P1O9nggCU9kjN8yHyF4-mt0kYE503OIhLi9lHQ-CkikXxHIS2NwnEUkxCnCeuRco1DhM04xf-XkzDBOYSnbMXxJlzXA8_OvR5ZU_lTqZ0GMQnfyAsJg0l_OPI833V93_Uno6BHNiR0g74_dB1_PBp745HjOOP3Hnm1DoN-4A0dJxi6g_HAGzl-8P4PPLGuSw)\n"
   ]
  },
  {
   "cell_type": "code",
   "execution_count": null,
   "id": "fRKGHr-Pg7-f",
   "metadata": {
    "id": "fRKGHr-Pg7-f"
   },
   "outputs": [],
   "source": [
    "# @title pip install memex\n",
    "!pip install -q memexdata"
   ]
  },
  {
   "cell_type": "code",
   "execution_count": null,
   "id": "04a12d19",
   "metadata": {
    "editable": true,
    "slideshow": {
     "slide_type": ""
    },
    "tags": [
     "parameters"
    ]
   },
   "outputs": [],
   "source": [
    "# @title setup Memex instance and api key\n",
    "MEMEX_INSTANCE_URL = \"https://<YOUR_INSTANCE>.memexdata.com\"\n",
    "MEMEX_API_KEY = \"<YOUR_API_KEY>\""
   ]
  },
  {
   "cell_type": "code",
   "execution_count": null,
   "id": "hF_tM7vupGwA",
   "metadata": {
    "id": "hF_tM7vupGwA"
   },
   "outputs": [],
   "source": [
    "# @title connect to MemexSession\n",
    "from memex import MemexSession\n",
    "\n",
    "mx = MemexSession(MEMEX_INSTANCE_URL, api_key=MEMEX_API_KEY)"
   ]
  },
  {
   "cell_type": "code",
   "execution_count": null,
   "id": "FQX7A8GzPTH4",
   "metadata": {
    "id": "FQX7A8GzPTH4"
   },
   "outputs": [],
   "source": [
    "# @title imports\n",
    "import os\n",
    "import json\n",
    "import zipfile\n",
    "import requests\n",
    "from pathlib import Path"
   ]
  },
  {
   "cell_type": "markdown",
   "id": "2f33703c-b958-4861-9f54-08f67579cb8e",
   "metadata": {
    "id": "2f33703c-b958-4861-9f54-08f67579cb8e"
   },
   "source": [
    "## Download synthetic patient data and clinicaltrials.gov data from Google Drive\n",
    "\n",
    "You can view the notebook that uses Synthea to generate the synthetic patient population used in this notebook here: [![Open in Colab](https://colab.research.google.com/assets/colab-badge.svg)](https://drive.google.com/file/d/1cQa0usjjJ8GAS25-j3WqfSJZG1NV48D8/view?usp=sharing)\n"
   ]
  },
  {
   "cell_type": "code",
   "execution_count": null,
   "id": "7gjmdQ8cpYOK",
   "metadata": {
    "id": "7gjmdQ8cpYOK"
   },
   "outputs": [],
   "source": [
    "# @title download data and project files\n",
    "\n",
    "os.makedirs(\"data\", exist_ok=True)\n",
    "\n",
    "\n",
    "def download(file):\n",
    "    DOWNLOAD_DIR = \"./\"\n",
    "    BASE_URL = \"https://sample.memexdata.com/clinical_trials/\"\n",
    "    open(f\"{DOWNLOAD_DIR}{file}\", \"wb\").write(\n",
    "        requests.get(BASE_URL + file, allow_redirects=True).content\n",
    "    )\n",
    "\n",
    "\n",
    "# synthetic patient population created with synthea\n",
    "download(\"data/synthea501.zip\")\n",
    "\n",
    "with zipfile.ZipFile(\"data/synthea501.zip\", \"r\") as zip_ref:\n",
    "    zip_ref.extractall(\".\")\n",
    "\n",
    "# psychiatric clinical trials downloaded from clinicaltrials.gov\n",
    "download(\"data/ctg.json\")\n",
    "\n",
    "download(\"code.zip\")\n",
    "\n",
    "with zipfile.ZipFile(\"code.zip\", \"r\") as zip_ref:\n",
    "    zip_ref.extractall(\".\")\n",
    "\n",
    "SQL_DIR = \"./queries/\"\n",
    "FUNCTION_DIR = \"./functions/\"\n",
    "csv_files = [\n",
    "    Path(os.path.join(root, file))\n",
    "    for root, _, files in os.walk(\"synthea501\")\n",
    "    for file in files\n",
    "    if file.endswith(\".csv\")\n",
    "]\n",
    "sql_files = [\n",
    "    Path(os.path.join(root, file))\n",
    "    for root, _, files in os.walk(SQL_DIR)\n",
    "    for file in files\n",
    "    if file.endswith(\".sql\")\n",
    "]\n",
    "function_files = [\n",
    "    Path(os.path.join(root, file))\n",
    "    for root, _, files in os.walk(FUNCTION_DIR)\n",
    "    for file in files\n",
    "    if file.endswith(\".json\")\n",
    "]"
   ]
  },
  {
   "cell_type": "code",
   "execution_count": null,
   "id": "4l14ScwdQtOb",
   "metadata": {
    "id": "4l14ScwdQtOb"
   },
   "outputs": [
    {
     "name": "stdout",
     "output_type": "stream",
     "text": [
      "- payer_transitions\n"
     ]
    },
    {
     "name": "stdout",
     "output_type": "stream",
     "text": [
      "- imaging_studies\n"
     ]
    },
    {
     "name": "stdout",
     "output_type": "stream",
     "text": [
      "- supplies\n"
     ]
    },
    {
     "name": "stdout",
     "output_type": "stream",
     "text": [
      "- payers\n"
     ]
    },
    {
     "name": "stdout",
     "output_type": "stream",
     "text": [
      "- claims\n"
     ]
    },
    {
     "name": "stdout",
     "output_type": "stream",
     "text": [
      "- allergies\n"
     ]
    },
    {
     "name": "stdout",
     "output_type": "stream",
     "text": [
      "- organizations\n"
     ]
    },
    {
     "name": "stdout",
     "output_type": "stream",
     "text": [
      "- conditions\n"
     ]
    },
    {
     "name": "stdout",
     "output_type": "stream",
     "text": [
      "- careplans\n"
     ]
    },
    {
     "name": "stdout",
     "output_type": "stream",
     "text": [
      "- encounters\n"
     ]
    },
    {
     "name": "stdout",
     "output_type": "stream",
     "text": [
      "- devices\n"
     ]
    },
    {
     "name": "stdout",
     "output_type": "stream",
     "text": [
      "- immunizations\n"
     ]
    },
    {
     "name": "stdout",
     "output_type": "stream",
     "text": [
      "- patients\n"
     ]
    },
    {
     "name": "stdout",
     "output_type": "stream",
     "text": [
      "\n",
      "\n",
      "Loading queries\n",
      "---------------\n",
      "- join_pts_criteria\n"
     ]
    },
    {
     "name": "stdout",
     "output_type": "stream",
     "text": [
      "- extract_criteria\n"
     ]
    },
    {
     "name": "stdout",
     "output_type": "stream",
     "text": [
      "- match_pts\n"
     ]
    },
    {
     "name": "stdout",
     "output_type": "stream",
     "text": [
      "- eval_patients\n"
     ]
    },
    {
     "name": "stdout",
     "output_type": "stream",
     "text": [
      "- format_patient_data\n"
     ]
    },
    {
     "name": "stdout",
     "output_type": "stream",
     "text": [
      "- summarize_pts\n"
     ]
    },
    {
     "name": "stdout",
     "output_type": "stream",
     "text": [
      "- aggregate_criteria\n"
     ]
    },
    {
     "name": "stdout",
     "output_type": "stream",
     "text": [
      "- patients_nested\n"
     ]
    },
    {
     "name": "stdout",
     "output_type": "stream",
     "text": [
      "\n",
      "\n",
      "Loading functions\n",
      "---------------\n",
      "- summarize\n"
     ]
    },
    {
     "name": "stdout",
     "output_type": "stream",
     "text": [
      "- shah_individual_py\n"
     ]
    },
    {
     "name": "stdout",
     "output_type": "stream",
     "text": [
      "- match_pts\n"
     ]
    },
    {
     "name": "stdout",
     "output_type": "stream",
     "text": [
      "- format_patient_history\n"
     ]
    },
    {
     "name": "stdout",
     "output_type": "stream",
     "text": [
      "- extract_criteria_py\n"
     ]
    }
   ],
   "source": [
    "# @title load project files\n",
    "print(\"Loading datasets\\n-----------------\\n\")\n",
    "\n",
    "# Clinical trials data\n",
    "trialpath = Path(\"data/ctg.json\")\n",
    "print(f\"Clinical trials data:\\n- {trialpath.stem}\")\n",
    "with trialpath.open() as file:\n",
    "    mx.upload_dataset(file, trialpath.name)\n",
    "\n",
    "print(\"\\nPatient data (OMOP format):\")\n",
    "# Upload synthea files\n",
    "for fpath in csv_files:\n",
    "    if fpath.stem not in set([\"claims_transactions\", \"observations\", \"procedures\"]):\n",
    "        print(f\"- {fpath.stem}\")\n",
    "        with fpath.open() as file:\n",
    "            mx.upload_dataset(file, fpath.name)\n",
    "\n",
    "print(\"\\n\\nLoading queries\\n---------------\")\n",
    "# Load queries\n",
    "for querypath in sql_files:\n",
    "    print(f\"- {querypath.stem}\")\n",
    "    with querypath.open() as file:\n",
    "        mx.save_query(query=file.read(), name=querypath.stem, overwrite=True)\n",
    "\n",
    "print(\"\\n\\nLoading functions\\n---------------\")\n",
    "# Load functions\n",
    "for functionpath in function_files:\n",
    "    print(f\"- {functionpath.stem}\")\n",
    "    with functionpath.open() as file:\n",
    "        mx.save_function({\"function\": json.load(file), \"overwrite\": True})"
   ]
  },
  {
   "cell_type": "markdown",
   "id": "6Oxsc4CyZS5e",
   "metadata": {
    "id": "6Oxsc4CyZS5e"
   },
   "source": [
    "## Inspecting project assets\n",
    "\n",
    "Let's take a look at some of the project assets we just imported.\n",
    "\n",
    "All of these are also available in the UI.\n"
   ]
  },
  {
   "cell_type": "code",
   "execution_count": null,
   "id": "P3yFxznEZncQ",
   "metadata": {
    "id": "P3yFxznEZncQ"
   },
   "outputs": [],
   "source": [
    "print(mx.get_function(\"shah_individual_py\")['source'])"
   ]
  },
  {
   "cell_type": "code",
   "execution_count": null,
   "id": "oN7fVFEcUxMr",
   "metadata": {
    "id": "oN7fVFEcUxMr"
   },
   "outputs": [],
   "source": [
    "print(mx.get_query(\"eval_patients\")[\"query\"])"
   ]
  },
  {
   "cell_type": "markdown",
   "id": "6a371d04-08d3-4259-bff0-90ff1c4b769b",
   "metadata": {
    "id": "6a371d04-08d3-4259-bff0-90ff1c4b769b"
   },
   "source": [
    "# Transform patient data for data synthesis\n",
    "\n",
    "[![](https://mermaid.ink/img/pako:eNp9VN1vmzAQ_1dO3uPSKJAECJsqpU3Sr1T93MM29uA4BryCHWHTNq36v-9wUkKYFB6Qz78P353h3glTS05CEmfqhaW0MPA4iSTgo8tFUtBVCkKuSgNLaugGqJ7x74g8rKVJOY3In93-FPdZJqRgNDOFoJnuJuq5pnC5bJnDTnuN2plipQYVg0mFbmBWw5kRSlboPoBZgFSGL5R62stmDEdHx3BS5WqKkpmy4LCiRnC5radJPrHkU5tEkVMDtObqMs9psd6jn1r6pPK2qHjbeWPuRjX4ddlTFKFqhqrpqykoM2C7BKwQhuOqljTfM3vUWZVZRo3hsqYDlUsMlNbwVwkJRrVyFlzXlhNrc16d_Uyzkpo6YQ00oUJq838eZxvRJji3wQU6jJOk4EnDAqjWXOu8cqvFF5Z_WfWIKey9NgWXiUmrK_zUfT-GbQ-w5yxt5AvjMAwXWcm34QmGeCqX2_i0FU8wVgWVyadguq-ftfGzlsF5m3DRIlzuxyzDoic8ho0IYpFl4Zd45LXglxSb-onGcQu1hlu0F48i2fpD5jypvx-Aq6qZd3O4-zG9_9n4IOe4f3t_c337CF8BCQ3oqlUFzFt1WvvNEn_dpwezzjj0qttST9x28FsbdQ6i7kG0fxAdHESHB1HvIOofRIM9lHRIznEKiCXOxveKGxEcMzmPSIjLRUYZjppIfiCRlkbhLGQkxCHDO6Rc4WzhE0Hx_nISxjgEcZcvBc6E6820tUO3Q1ZU_lJqx8GYhO_klYTBqOv0Pc8fDn1_6I_6QYesSTgMur4zdP1Bf-AN-q7rDj465M069LqB57hu4HhBz-n5juN__AN0h81n?type=png)](https://mermaid-js.github.io/mermaid-live-editor/edit#pako:eNp9VN1vmzAQ_1dO3uPSKJAECJsqpU3Sr1T93MM29uA4BryCHWHTNq36v-9wUkKYFB6Qz78P353h3glTS05CEmfqhaW0MPA4iSTgo8tFUtBVCkKuSgNLaugGqJ7x74g8rKVJOY3In93-FPdZJqRgNDOFoJnuJuq5pnC5bJnDTnuN2plipQYVg0mFbmBWw5kRSlboPoBZgFSGL5R62stmDEdHx3BS5WqKkpmy4LCiRnC5radJPrHkU5tEkVMDtObqMs9psd6jn1r6pPK2qHjbeWPuRjX4ddlTFKFqhqrpqykoM2C7BKwQhuOqljTfM3vUWZVZRo3hsqYDlUsMlNbwVwkJRrVyFlzXlhNrc16d_Uyzkpo6YQ00oUJq838eZxvRJji3wQU6jJOk4EnDAqjWXOu8cqvFF5Z_WfWIKey9NgWXiUmrK_zUfT-GbQ-w5yxt5AvjMAwXWcm34QmGeCqX2_i0FU8wVgWVyadguq-ftfGzlsF5m3DRIlzuxyzDoic8ho0IYpFl4Zd45LXglxSb-onGcQu1hlu0F48i2fpD5jypvx-Aq6qZd3O4-zG9_9n4IOe4f3t_c337CF8BCQ3oqlUFzFt1WvvNEn_dpwezzjj0qttST9x28FsbdQ6i7kG0fxAdHESHB1HvIOofRIM9lHRIznEKiCXOxveKGxEcMzmPSIjLRUYZjppIfiCRlkbhLGQkxCHDO6Rc4WzhE0Hx_nISxjgEcZcvBc6E6820tUO3Q1ZU_lJqx8GYhO_klYTBqOv0Pc8fDn1_6I_6QYesSTgMur4zdP1Bf-AN-q7rDj465M069LqB57hu4HhBz-n5juN__AN0h81n)\n"
   ]
  },
  {
   "cell_type": "markdown",
   "id": "hWNqBRzDLnEU",
   "metadata": {
    "id": "hWNqBRzDLnEU"
   },
   "source": [
    "One key aspect of this process is the creation of nested patient data, which consolidates all relevant patient information into a structured format that is conducive to analysis and matching with clinical trials criteria. This step is crucial for the subsequent utilization of machine learning models that can process this structured data to make accurate matching predictions.\n",
    "\n",
    "The patients_nested query is used to create a nested representation of each patient's data, including their medical encounters, conditions, medications, allergies, and other relevant health information. By executing this query and saving the result as a table called patients_nested, we create a valuable resource that can be used for further processing and analysis.\n"
   ]
  },
  {
   "cell_type": "code",
   "execution_count": null,
   "id": "rQ0v6MURQ61N",
   "metadata": {
    "id": "rQ0v6MURQ61N"
   },
   "outputs": [],
   "source": [
    "patients_nested = mx.get_query(\"patients_nested\")\n",
    "mx.save_as_table(\"patients_nested\", patients_nested[\"query\"], overwrite=True)"
   ]
  },
  {
   "cell_type": "code",
   "execution_count": null,
   "id": "af6e29080248a678",
   "metadata": {
    "ExecuteTime": {
     "end_time": "2024-02-09T19:50:49.826050Z",
     "start_time": "2024-02-09T19:50:49.685440Z"
    },
    "collapsed": false,
    "id": "af6e29080248a678",
    "jupyter": {
     "outputs_hidden": false
    }
   },
   "outputs": [],
   "source": [
    "format_patient_data = mx.get_query(\"format_patient_data\")\n",
    "mx.save_as_table(\"pt_histories\", format_patient_data[\"query\"], overwrite=True)"
   ]
  },
  {
   "cell_type": "code",
   "execution_count": null,
   "id": "1gGLNw3AEBpY",
   "metadata": {
    "id": "1gGLNw3AEBpY"
   },
   "outputs": [],
   "source": [
    "# This query uses an LLM call to summarize patients:\n",
    "# summarize = mx.get_function(\"summarize\")\n",
    "summarize_pts = mx.get_query(\"summarize_pts\")\n",
    "mx.save_as_table(\n",
    "    \"pt_summaries\",\n",
    "    summarize_pts[\"query\"],\n",
    "    model=\"gpt-3.5-turbo\",\n",
    "    temperature=0.1,\n",
    "    max_tokens=4000,\n",
    "    use_cache=True,\n",
    "    overwrite=True,\n",
    ")"
   ]
  },
  {
   "cell_type": "markdown",
   "id": "ujwCT6ZQU5CG",
   "metadata": {
    "id": "ujwCT6ZQU5CG"
   },
   "source": [
    "## Format clinical trials criteria\n",
    "\n",
    "[![](https://mermaid.ink/img/pako:eNp9VNtymzAQ_ZUd9bGOx2AbMO1kxont3Oxpbn1oSx9kLEANSB4kkjiZ_HsXYWObzKAHRqtz9mh3xe47CeWKEZ9EqXwJE5preJwEAnCpYhnndJ0AF-tCw4pqWgHlGv8JyMNG6ITRgPzdn0_xPEy54CFNdc5pqrqxfK4pTKwa4nDgCycnJ6cwQ4npq85pqMFIQJhzzXB3dNMMSvIFkmcp1ZqJmgZUrNCQSsE_yQVoCWuqORMar80ymnOmjqQWpYgMCwUyAp1wdRCUCZaFmktRoscApg9CaraU8ulzjtV3bOI8K-ul8yLURc7qcExNd35nhnhuYskzqoE2wt7U1HNDnZSaVUJve00MX0vD3ccwMfzLsrDPNC2orukKaEy5UPpzkS8qp8q4NMYVKozjOGfxgQRQpZhSWalWO18Z_nUZYSgxY6VzJmKdlDXc-X0_he0DY7ZhcvgoY9_3l2nBtuYZmngrE1v7vGFP0JY5FfHOYXrsP2viFw2ByybhqkG4PrbDFJOesAgqJ4h4mvpfopHTgF8SLOoOjaIGagS3aC8aBaLRG3MW1z8TwE1ZzLs53P2c3v86-H_neH57_2Nx-whfAQkH0E0jC5g38jTy1Rab9ulBb1IGvfK15BMzFfzWRK1W1G5F-63ooBUdtqJOK-q2ot4RSjokY9h_fIVT8b3kBgT7PGMB8XG7TGmIvR6IDyTSQkucgiHxsbVZhxRr7Gg24RTfLyN-hOMPT9mKY0cuqjlrxm2HrKn4LeWegzbx38kr8b1R1-o7jjscuu7QHfW9DtkQf-h1XWtou4P-wBn0bdsefHTIm1HodT3Hsm3Pcrye1XMty_34D-TjzB0?type=png)](https://mermaid-js.github.io/mermaid-live-editor/edit#pako:eNp9VNtymzAQ_ZUd9bGOx2AbMO1kxont3Oxpbn1oSx9kLEANSB4kkjiZ_HsXYWObzKAHRqtz9mh3xe47CeWKEZ9EqXwJE5preJwEAnCpYhnndJ0AF-tCw4pqWgHlGv8JyMNG6ITRgPzdn0_xPEy54CFNdc5pqrqxfK4pTKwa4nDgCycnJ6cwQ4npq85pqMFIQJhzzXB3dNMMSvIFkmcp1ZqJmgZUrNCQSsE_yQVoCWuqORMar80ymnOmjqQWpYgMCwUyAp1wdRCUCZaFmktRoscApg9CaraU8ulzjtV3bOI8K-ul8yLURc7qcExNd35nhnhuYskzqoE2wt7U1HNDnZSaVUJve00MX0vD3ccwMfzLsrDPNC2orukKaEy5UPpzkS8qp8q4NMYVKozjOGfxgQRQpZhSWalWO18Z_nUZYSgxY6VzJmKdlDXc-X0_he0DY7ZhcvgoY9_3l2nBtuYZmngrE1v7vGFP0JY5FfHOYXrsP2viFw2ByybhqkG4PrbDFJOesAgqJ4h4mvpfopHTgF8SLOoOjaIGagS3aC8aBaLRG3MW1z8TwE1ZzLs53P2c3v86-H_neH57_2Nx-whfAQkH0E0jC5g38jTy1Rab9ulBb1IGvfK15BMzFfzWRK1W1G5F-63ooBUdtqJOK-q2ot4RSjokY9h_fIVT8b3kBgT7PGMB8XG7TGmIvR6IDyTSQkucgiHxsbVZhxRr7Gg24RTfLyN-hOMPT9mKY0cuqjlrxm2HrKn4LeWegzbx38kr8b1R1-o7jjscuu7QHfW9DtkQf-h1XWtou4P-wBn0bdsefHTIm1HodT3Hsm3Pcrye1XMty_34D-TjzB0)\n"
   ]
  },
  {
   "cell_type": "code",
   "execution_count": null,
   "id": "16e4eb38-a609-4dc9-858c-1c57601c3388",
   "metadata": {
    "id": "16e4eb38-a609-4dc9-858c-1c57601c3388"
   },
   "outputs": [],
   "source": [
    "# extract_criteria_py = mx.get_function(\"extract_criteria_py\")\n",
    "extract_criteria = mx.get_query(\"extract_criteria\")\n",
    "mx.save_as_table(\n",
    "    \"extracted_criteria_100\",\n",
    "    extract_criteria[\"query\"],\n",
    "    model=\"gpt-3.5-turbo\",\n",
    "    max_tokens=1000,\n",
    "    temperature=0.1,\n",
    "    use_cache=True,\n",
    "    overwrite=True,\n",
    ")"
   ]
  },
  {
   "cell_type": "code",
   "execution_count": null,
   "id": "4A_UdAEbYQRE",
   "metadata": {
    "id": "4A_UdAEbYQRE"
   },
   "outputs": [],
   "source": [
    "join_pts_criteria = mx.get_query(\"join_pts_criteria\")\n",
    "mx.save_as_table(\"pt_criteria_and_summary\", join_pts_criteria[\"query\"], overwrite=True)"
   ]
  },
  {
   "cell_type": "markdown",
   "id": "70KtqSDsEjAw",
   "metadata": {
    "id": "70KtqSDsEjAw"
   },
   "source": [
    "[![](https://mermaid.ink/img/pako:eNp9VNtymzAQ_ZUd9bGOx2AbMO1kxont3Jxpbn1oSx9kLEANSB4kkjiZ_HsXYUNMZuCB0eqcs9pdafeNhHLNiE-iVD6HCc01PMwCAfipYhXndJMAF5tCw5pqWgHlN_0TkPut0AmjAfnb7M9xP0y54CFNdc5pqvqxfKopTKxbziEQjfoa1QsZFgpkBDrhChrMqFiouRQleghgHCCkZispHw_iaVbncHR0DBd4wjSOcxZTzWBDNWdCA1WKKZXhUh2oL4zmssw1lDkDpXMmYp2UAey134_x-DJTyKgOE6Y-J1v9p8bZSelM50Woi7wJwBR3rzsxxFNTixydAq15qsgymm9r6qmhzkqfBuGvjU8sn5aG28QwM_xz5M-faFp8qIECGlMulIYw55phQvUhZ5WoMuZooLUoXbzonIZ6l_0n2cLIzso0Uqo1EzUFqFijIZWCf5IL0LKVIN9VcXcTU9_3V2nBduYJmniDbA-ftuwZ2jKnIt4L5of6RRs_azk4bxMuWoTLQztM8QHNWASVCCKepv6XaOK04OcE89-jUdRCjcMdOogm--zrTlmyuH5RAFflnd8u4fbn_O7Xh0e7xP2bux_XNw_wFZDwAbpqZQHLVp7GfbXEFn6819uUwaB89fKRmQp-a6NWJ2p3osNOdNSJjjtRpxN1O1HvACU9kjFsQr7GGflWcgOCwyZjAfFxuUppiAMnEO9IpIWWOBND4mN_sx4pNtjWbMYp3l9G_AiHIe6yNce2vK6mrhm-PbKh4reUDQdt4r-RF-J7k741dBx3PHbdsTsZej2yJf7Y67vW2HZHw5EzGtq2PXrvkVfjYdD3HMu2PcvxBtbAtSz3_T_LA897?type=png)](https://mermaid-js.github.io/mermaid-live-editor/edit#pako:eNp9VNtymzAQ_ZUd9bGOx2AbMO1kxont3Jxpbn1oSx9kLEANSB4kkjiZ_HsXYUNMZuCB0eqcs9pdafeNhHLNiE-iVD6HCc01PMwCAfipYhXndJMAF5tCw5pqWgHlN_0TkPut0AmjAfnb7M9xP0y54CFNdc5pqvqxfKopTKxbziEQjfoa1QsZFgpkBDrhChrMqFiouRQleghgHCCkZispHw_iaVbncHR0DBd4wjSOcxZTzWBDNWdCA1WKKZXhUh2oL4zmssw1lDkDpXMmYp2UAey134_x-DJTyKgOE6Y-J1v9p8bZSelM50Woi7wJwBR3rzsxxFNTixydAq15qsgymm9r6qmhzkqfBuGvjU8sn5aG28QwM_xz5M-faFp8qIECGlMulIYw55phQvUhZ5WoMuZooLUoXbzonIZ6l_0n2cLIzso0Uqo1EzUFqFijIZWCf5IL0LKVIN9VcXcTU9_3V2nBduYJmniDbA-ftuwZ2jKnIt4L5of6RRs_azk4bxMuWoTLQztM8QHNWASVCCKepv6XaOK04OcE89-jUdRCjcMdOogm--zrTlmyuH5RAFflnd8u4fbn_O7Xh0e7xP2bux_XNw_wFZDwAbpqZQHLVp7GfbXEFn6819uUwaB89fKRmQp-a6NWJ2p3osNOdNSJjjtRpxN1O1HvACU9kjFsQr7GGflWcgOCwyZjAfFxuUppiAMnEO9IpIWWOBND4mN_sx4pNtjWbMYp3l9G_AiHIe6yNce2vK6mrhm-PbKh4reUDQdt4r-RF-J7k741dBx3PHbdsTsZej2yJf7Y67vW2HZHw5EzGtq2PXrvkVfjYdD3HMu2PcvxBtbAtSz3_T_LA897)\n"
   ]
  },
  {
   "cell_type": "code",
   "execution_count": null,
   "id": "VQiloaiwYRFz",
   "metadata": {
    "id": "VQiloaiwYRFz"
   },
   "outputs": [],
   "source": [
    "# This query uses the top performing prompt from the Shah Lab paper on clinicals trials matching (https://arxiv.org/pdf/2402.05125.pdf):\n",
    "shah_individual_py = mx.get_function(\"shah_individual_py\")\n",
    "# pprint_function(shah_individual_py)\n",
    "eval_patients = mx.get_query(\"eval_patients\")\n",
    "mx.save_as_table(\n",
    "    \"evaled_pts\",\n",
    "    eval_patients[\"query\"],\n",
    "    model=\"gpt-3.5-turbo\",\n",
    "    max_tokens=2000,\n",
    "    temperature=0.1,\n",
    "    use_cache=True,\n",
    "    overwrite=True,\n",
    ")"
   ]
  },
  {
   "cell_type": "code",
   "execution_count": null,
   "id": "27896761-1eb9-4ff3-ac1c-f0e927bfcf8f",
   "metadata": {
    "id": "27896761-1eb9-4ff3-ac1c-f0e927bfcf8f"
   },
   "outputs": [],
   "source": [
    "aggregate_criteria = mx.get_query(\"aggregate_criteria\")\n",
    "mx.save_as_table(\"assessed_pts\", aggregate_criteria[\"query\"], overwrite=True)"
   ]
  },
  {
   "cell_type": "code",
   "execution_count": null,
   "id": "19930d1c-90b5-431b-a05b-3fa2a247c31f",
   "metadata": {
    "id": "19930d1c-90b5-431b-a05b-3fa2a247c31f"
   },
   "outputs": [],
   "source": [
    "match_pts = mx.get_query(\"match_pts\")\n",
    "mx.save_as_table(\"pt_trial_match_scores\", match_pts[\"query\"], overwrite=True)"
   ]
  },
  {
   "cell_type": "code",
   "execution_count": null,
   "id": "IfFsQ3jAiBnc",
   "metadata": {
    "id": "IfFsQ3jAiBnc"
   },
   "outputs": [],
   "source": []
  }
 ],
 "metadata": {
  "colab": {
   "provenance": []
  },
  "kernelspec": {
   "display_name": "Python 3 (ipykernel)",
   "language": "python",
   "name": "python3"
  },
  "language_info": {
   "codemirror_mode": {
    "name": "ipython",
    "version": 3
   },
   "file_extension": ".py",
   "mimetype": "text/x-python",
   "name": "python",
   "nbconvert_exporter": "python",
   "pygments_lexer": "ipython3",
   "version": "3.10.13"
  }
 },
 "nbformat": 4,
 "nbformat_minor": 5
}
