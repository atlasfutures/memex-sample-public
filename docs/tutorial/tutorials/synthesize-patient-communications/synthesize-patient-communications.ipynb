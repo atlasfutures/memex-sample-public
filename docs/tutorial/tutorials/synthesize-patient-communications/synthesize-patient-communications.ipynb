{
 "cells": [
  {
   "cell_type": "markdown",
   "id": "589d710c",
   "metadata": {},
   "source": [
    "# Synthesize Patient Communications\n",
    "\n",
    "_Click on the button bellow to open this tutorial as an executable notebook_\n",
    "\n",
    "[![Open In Colab](https://colab.research.google.com/assets/colab-badge.svg)](https://colab.research.google.com/github/atlasfutures/memex-sample-public/blob/main/docs/tutorial/tutorials/synthesize-patient-communications/synthesize-patient-communications.ipynb)\n",
    "\n",
    "***\n",
    "\n",
    "### Introduction\n",
    "\n",
    "Imagine you are a data scientist or engineer working at a company that is building an AI application that helps healthcare providers manage their patient communication data. Examples could include an application that creates summaries of conversations, one that analyzes the conversations and classifies them by type, or even the chatbot itself.\n",
    "\n",
    "In order for you to create this application, you'll need some examples to make sure it works well and efficiently. But you quickly realized it might be tough to get access to a good dataset of patient communication messages to work with.\n",
    "\n",
    "In this tutorial, we'll show you how you can use Memex to generate a synthetic set of patient communications. We'll explore how to pre-process data, utilize Memex's capabilities to query and transform data, and finally, how to synthesize patient communications using Memex's unique integration of User-Defined Functions (UDFs) with SQL queries.\n",
    "\n",
    "### Workflow summary\n",
    "\n",
    "In this tutorial we'll start with detailed medical records as inputs, and end with relevant patient communications through the following workflow:\n",
    "\n",
    "_Patient detailed medical records -> formatted patient medical histories -> summarized medical histories -> Patient messages to a healthcare provider_\n",
    "\n",
    "***\n",
    "\n",
    "### Configuring Memex Connection\n",
    "\n",
    "Before proceeding, ensure that the Memex library is installed in your environment. This library provides the necessary tools and functions to interact with the Memex platform. (Note: you might get an error about pip dependencies, but you can disregard)"
   ]
  },
  {
   "cell_type": "code",
   "execution_count": null,
   "id": "23b0ee77",
   "metadata": {},
   "outputs": [],
   "source": [
    "!pip install -q memexdata"
   ]
  },
  {
   "cell_type": "markdown",
   "id": "cc9f2857",
   "metadata": {},
   "source": [
    "To interact with Memex, set up your instance URL and API key. You can find both of them under your profile bubble `API Access` section at the top right corner of the Memex UI after you log-in."
   ]
  },
  {
   "cell_type": "code",
   "execution_count": null,
   "id": "aa228226",
   "metadata": {
    "tags": [
     "parameters"
    ]
   },
   "outputs": [],
   "source": [
    "MEMEX_INSTANCE_URL = \"https://<YOUR_INSTANCE>.memexdata.com\"\n",
    "MEMEX_API_KEY = \"<YOUR_API_KEY>\""
   ]
  },
  {
   "cell_type": "markdown",
   "id": "1bad50b8",
   "metadata": {},
   "source": [
    "With the credentials set, instantiate a MemexSession."
   ]
  },
  {
   "cell_type": "code",
   "execution_count": null,
   "id": "58cb347c",
   "metadata": {},
   "outputs": [],
   "source": [
    "import os\n",
    "from pathlib import Path\n",
    "\n",
    "from memex import MemexSession\n",
    "\n",
    "mx = MemexSession(MEMEX_INSTANCE_URL, api_key=MEMEX_API_KEY)"
   ]
  },
  {
   "cell_type": "markdown",
   "id": "aa3694ac",
   "metadata": {},
   "source": [
    "### Uploading the dataset\n",
    "\n",
    "In this tutorial we'll start with a synthetic set of 100 patient medical records.\n",
    "\n",
    "The dataset, called `patients_joined`, includes patient demographics, encounters, conditions, and observations in a single table. You can [download the json file](https://sample.memexdata.com/synthesize-patient/data/patients\\_joined.jsonl) here and upload it to Memex either via the UI or the Python API.\n",
    "\n",
    "### Create patients medical histories\n",
    "\n",
    "The first step is to process the data to generate a nicely formatted patient medical history based on the information we have for each patient. To do this, we define a UDF `format_patient_history`, which takes various patient details from `patients_joined` as input and formats them into a patient medical history broken down into three sections: Medications, Encounter Reasons, and Conditions."
   ]
  },
  {
   "cell_type": "code",
   "execution_count": null,
   "id": "bfb96c3a",
   "metadata": {},
   "outputs": [],
   "source": [
    "from pydantic import BaseModel\n",
    "from datetime import datetime\n",
    "from typing import List\n",
    "\n",
    "\n",
    "class Encounter(BaseModel):\n",
    "    id: str\n",
    "    encounterclass: str\n",
    "    desc: str\n",
    "    start: datetime\n",
    "    end: datetime\n",
    "    reason_code: float\n",
    "    reason_desc: str\n",
    "    provider_id: str\n",
    "    provider_name: str\n",
    "\n",
    "\n",
    "class Condition(BaseModel):\n",
    "    id: int\n",
    "    desc: str\n",
    "    start: datetime\n",
    "    end: datetime\n",
    "\n",
    "\n",
    "class Medication(BaseModel):\n",
    "    id: int\n",
    "    desc: str\n",
    "    start: datetime\n",
    "    end: datetime\n",
    "    medication_reason_code: float\n",
    "    reason_desc: str\n",
    "\n",
    "\n",
    "@mx.udf\n",
    "def format_patient_history(\n",
    "    first: str,\n",
    "    last: str,\n",
    "    birthdate: str,\n",
    "    encounter_list: List[Encounter],\n",
    "    condition_list: List[Condition],\n",
    "    medication_list: List[Medication],\n",
    ") -> str:\n",
    "    import random\n",
    "\n",
    "    # Convert BaseModel instances to dicts manually and exclude 'id' key\n",
    "    encounter_dicts = [\n",
    "        {k: v for k, v in e.items() if k != \"id\"} for e in encounter_list\n",
    "    ]\n",
    "    condition_dicts = [\n",
    "        {k: v for k, v in c.items() if k != \"id\"} for c in condition_list\n",
    "    ]\n",
    "    medication_dicts = [\n",
    "        {k: v for k, v in m.items() if k != \"id\"} for m in medication_list\n",
    "    ]\n",
    "\n",
    "    # sort the histories in reverse chronological order by start date\n",
    "    encounter_dicts = sorted(encounter_dicts, key=lambda x: x[\"start\"], reverse=True)\n",
    "    condition_dicts = sorted(condition_dicts, key=lambda x: x[\"start\"], reverse=True)\n",
    "    medication_dicts = sorted(medication_dicts, key=lambda x: x[\"start\"], reverse=True)\n",
    "\n",
    "    # select the most recent encounter that has a reason description\n",
    "    most_recent_reason = next(\n",
    "        (e[\"reason_desc\"] for e in encounter_dicts if e[\"reason_desc\"]), None\n",
    "    )\n",
    "\n",
    "    # get the date of the most recent encounter\n",
    "    most_recent_encounter_date = (\n",
    "        encounter_dicts[0][\"start\"] if encounter_dicts else None\n",
    "    )\n",
    "\n",
    "    # get the provider name of the most recent encounter\n",
    "    most_recent_provider = (\n",
    "        encounter_dicts[0][\"provider_name\"] if encounter_dicts else None\n",
    "    )\n",
    "\n",
    "    # filter the condition and medication lists to only include items that occurred before the most recent encounter\n",
    "    condition_dicts = [\n",
    "        c for c in condition_dicts if c[\"start\"] < most_recent_encounter_date\n",
    "    ]\n",
    "    medication_dicts = [\n",
    "        m for m in medication_dicts if m[\"start\"] < most_recent_encounter_date\n",
    "    ]\n",
    "\n",
    "    # get a list of active medications by their description\n",
    "    active_medications = [m[\"desc\"] for m in medication_dicts if m[\"end\"] is None]\n",
    "\n",
    "    # Format the active medications into a list. If the list is empty, return a message indicating that there are no active medications\n",
    "    formatted_medications = \"Active medications\\n\"\n",
    "    formatted_medications += (\n",
    "        \"\\n\".join(active_medications) if active_medications else \"No active medications\"\n",
    "    )\n",
    "\n",
    "    # group encounters by reason and encounter class, with a list of dates on which those encounter types occurred\n",
    "    # exclude reasons that are \"None\" or empty strings\n",
    "    encounter_reasons = {}\n",
    "    for e in encounter_dicts:\n",
    "        if e[\"reason_desc\"] and e[\"reason_desc\"] not in encounter_reasons:\n",
    "            encounter_reasons[e[\"reason_desc\"]] = {}\n",
    "        if e[\"reason_desc\"]:\n",
    "            if e[\"encounterclass\"] not in encounter_reasons[e[\"reason_desc\"]]:\n",
    "                encounter_reasons[e[\"reason_desc\"]][e[\"encounterclass\"]] = []\n",
    "            encounter_reasons[e[\"reason_desc\"]][e[\"encounterclass\"]].append(e[\"start\"])\n",
    "\n",
    "    # format the encounter reasons + classes and dates into a string, only include the month and year of the date (which is str format) in the format MM/DD\n",
    "    formatted_encounter_reasons = \"Encounter reasons\\n\"\n",
    "    for reason, classes in encounter_reasons.items():\n",
    "        formatted_encounter_reasons += f\"{reason}\\n\"\n",
    "        for cls, dates in classes.items():\n",
    "            formatted_encounter_reasons += f\"  {cls}: {', '.join(dates)}\\n\"\n",
    "\n",
    "    # get a list of active conditions by their description\n",
    "    active_conditions = [c[\"desc\"] for c in condition_dicts if c[\"end\"] is None]\n",
    "\n",
    "    # Format the active conditions into a string. If the list is empty, return a message indicating that there are no active conditions\n",
    "    formatted_conditions = \"Active conditions\\n\"\n",
    "    formatted_conditions += (\n",
    "        \"\\n\".join(active_conditions) if active_conditions else \"No active conditions\"\n",
    "    )\n",
    "\n",
    "    summary = f\"\"\"{first} {last}, born on {birthdate}, is communicating with their healthcare provider, {most_recent_provider}, about \"{most_recent_reason}\". \n",
    "    \n",
    "## Below is a summary of their healthcare history:\n",
    "\n",
    "### {formatted_medications}\n",
    "\n",
    "### {formatted_encounter_reasons} \n",
    " \n",
    "### {formatted_conditions}\"\"\"\n",
    "\n",
    "    return summary"
   ]
  },
  {
   "cell_type": "markdown",
   "id": "3ffddb11",
   "metadata": {},
   "source": [
    "Now that we have our `format_patient_history` UDF, let's call it on a query for a single patient to see the output it would generate. Notice that `format_patient_history` is a Python-only UDF (i.e., no LLM calls), that Memex allows you to call from SQL."
   ]
  },
  {
   "cell_type": "code",
   "execution_count": null,
   "id": "0f24641c",
   "metadata": {},
   "outputs": [],
   "source": [
    "format_query = \"\"\"\n",
    "SELECT \n",
    "  id, \n",
    "  format_patient_history(first, last, birthdate, encounter_list, condition_list, medication_list) as pt_hist \n",
    "FROM patients_joined\"\"\""
   ]
  },
  {
   "cell_type": "code",
   "execution_count": null,
   "id": "080cad89",
   "metadata": {},
   "outputs": [],
   "source": [
    "for record in mx.query(format_query, limit=3)['pt_hist'].values:\n",
    "  print(record, \"\\n---\\n\")"
   ]
  },
  {
   "cell_type": "markdown",
   "id": "e7809cb5",
   "metadata": {},
   "source": [
    "Which generates something like this:\n",
    "\n",
    "<figure><img src=\"../.gitbook/assets/synthesize-patient-query-1.png\" alt=\"\"><figcaption></figcaption></figure>\n",
    "\n",
    "**Tip:** The Memex UI was built to render this type of results more effectively. At any point you can go to your instance and see the data you are creating. For example, the formatted patient history looks like this:\n",
    "\n",
    "<figure><img src=\"../.gitbook/assets/synthesize-patient-ui-1.png\" alt=\"\"><figcaption></figcaption></figure>\n",
    "\n",
    "Now let's run it on all 100 synthetic patients, and save the outputs on a new table called `patient_histories_formatted` which will contain the formatted patient medical histories."
   ]
  },
  {
   "cell_type": "code",
   "execution_count": null,
   "id": "e8b3e45d",
   "metadata": {},
   "outputs": [],
   "source": [
    "format_query = \"\"\"\n",
    "SELECT \n",
    "  id, \n",
    "  format_patient_history(first, last, birthdate, encounter_list, condition_list, medication_list) as pt_hist \n",
    "FROM patients_joined\"\"\"\n",
    "\n",
    "mx.save_as_table(\"patient_histories_formatted\", format_query, overwrite=True)"
   ]
  },
  {
   "cell_type": "markdown",
   "id": "d51925ef",
   "metadata": {},
   "source": [
    "The new table is now created and accessible through the Memex UI.\n",
    "\n",
    "### Summarizing Patient Medical Histories\n",
    "\n",
    "In this step, we'll define a prompt UDF, `summarize_patient_history`, which will take as input the patients medical histories and summarize them. This UDF, being a prompt one, will only have the LLM prompt we'll want to run on each medical history."
   ]
  },
  {
   "cell_type": "code",
   "execution_count": null,
   "id": "c639fdf3",
   "metadata": {},
   "outputs": [],
   "source": [
    "@mx.prompt\n",
    "def summarize_patient_history(patient_history: str) -> str:\n",
    "    \"\"\"Summarize the following patient history:\n",
    "    {patient_history}\n",
    "    \"\"\""
   ]
  },
  {
   "cell_type": "markdown",
   "id": "93fea8b9",
   "metadata": {},
   "source": [
    "Memex supports many different LLM models. You can use the following call to see available ones and choose the one you'll want to use for the `summarize_patient_history` prompt UDF."
   ]
  },
  {
   "cell_type": "code",
   "execution_count": null,
   "id": "55f2308f",
   "metadata": {},
   "outputs": [],
   "source": [
    "mx.get_models()"
   ]
  },
  {
   "cell_type": "markdown",
   "id": "70000d17",
   "metadata": {},
   "source": [
    "Let's go with `gpt-4-turbo-preview`.\n",
    "\n",
    "Now we create a query that will call `summarize_patient_history` by passing each patients histories from `patients_histories_formatted` as input. Let's see how the result looks like"
   ]
  },
  {
   "cell_type": "code",
   "execution_count": null,
   "id": "68129d68",
   "metadata": {},
   "outputs": [],
   "source": [
    "summarize_query = \"\"\"\n",
    "WITH patients AS (\n",
    "    SELECT *\n",
    "    FROM patient_histories_formatted\n",
    "    LIMIT 5\n",
    ")\n",
    "SELECT id , summarize_patient_history(pt_hist) as pt_hist_summary FROM patients\n",
    "\"\"\"\n",
    "\n",
    "mx.query(summarize_query).values"
   ]
  },
  {
   "cell_type": "markdown",
   "id": "9eca7a1c",
   "metadata": {},
   "source": [
    "<figure><img src=\"../.gitbook/assets/synthesize-patient-query-2.png\" alt=\"\"><figcaption></figcaption></figure>\n",
    "\n",
    "And save the output as a new table called `patient_histories_summarized`."
   ]
  },
  {
   "cell_type": "code",
   "execution_count": null,
   "id": "06d1d4c1",
   "metadata": {
    "lines_to_next_cell": 0
   },
   "outputs": [],
   "source": [
    "mx.save_as_table(\n",
    "    \"patient_histories_summarized\",\n",
    "    summarize_query,\n",
    "    model=\"gpt-4-turbo-preview\",\n",
    "    temperature=0.2,\n",
    "    max_tokens=1000,\n",
    "    overwrite=True,\n",
    ")"
   ]
  },
  {
   "cell_type": "markdown",
   "id": "79ead291",
   "metadata": {},
   "source": []
  },
  {
   "cell_type": "markdown",
   "id": "e9cf69ef",
   "metadata": {},
   "source": [
    "### Creating Patient Portal Messages\n",
    "\n",
    "In this last step, we'll create synthetic patient conversations with their healthcare provider.\n",
    "\n",
    "We'll start by defining a Prompt Function `create_portal_message`. This function takes a patient medical history summary as input and generates a message that the patient might send to their healthcare provider through a patient portal. The aim is to use colloquial language to express concerns or questions about the patient's health that are specific to their own medical history."
   ]
  },
  {
   "cell_type": "code",
   "execution_count": null,
   "id": "cbe2fe1c",
   "metadata": {},
   "outputs": [],
   "source": [
    "@mx.prompt\n",
    "def create_portal_message(patient_summary: str) -> str:\n",
    "    \"\"\"Your instructions are to write a message to your healthcare provider as if you are the patient summarized below.\n",
    "    - You are messaging them with questions about your current health issue, which may be symptoms, billing issues, prescription issues, etc.\n",
    "    - Use colloquial language and be concise. Do not use sophisticated medical terms.\n",
    "\n",
    "    Patient Summary:\n",
    "    {patient_summary}\n",
    "    \"\"\""
   ]
  },
  {
   "cell_type": "markdown",
   "id": "960f6e22",
   "metadata": {},
   "source": [
    "### Generating Portal Communications\n",
    "\n",
    "With the `create_portal_message` defined, the next step is to apply it to the patient medical histories we've summarized.\n",
    "\n",
    "We do this with a SQL query that calls the UDF for each patient medical history summary, generating a simulated message that the patient might send to their healthcare provider about something related to their medical history.\n",
    "\n",
    "Let's run it on a single patient to see it in action."
   ]
  },
  {
   "cell_type": "code",
   "execution_count": null,
   "id": "968a428b",
   "metadata": {},
   "outputs": [],
   "source": [
    "portal_query = \"\"\"\n",
    "WITH patients AS (\n",
    "    SELECT id, pt_hist_summary\n",
    "    FROM patient_histories_summarized\n",
    ")\n",
    "SELECT id, create_portal_message(pt_hist_summary) as portal_communication \n",
    "FROM patients LIMIT 1\n",
    "\"\"\"\n",
    "\n",
    "\n",
    "mx.query(portal_query)['portal_communication'].values[0]"
   ]
  },
  {
   "cell_type": "markdown",
   "id": "ec04a133",
   "metadata": {},
   "source": [
    "Which generates something like this:\n",
    "\n",
    "<figure><img src=\"../.gitbook/assets/synthesize-patient-query-3.png\" alt=\"\"><figcaption></figcaption></figure>\n",
    "\n",
    "And now we can run it on all the patients to generate one message for each."
   ]
  },
  {
   "cell_type": "code",
   "execution_count": null,
   "id": "177565bd",
   "metadata": {},
   "outputs": [],
   "source": [
    "portal_query = \"\"\"\n",
    "WITH patients AS (\n",
    "    SELECT id, pt_hist_summary\n",
    "    FROM patient_histories_summarized\n",
    ")\n",
    "SELECT id, create_portal_message(pt_hist_summary) as portal_communication \n",
    "FROM patients LIMIT 100\n",
    "\"\"\"\n",
    "\n",
    "mx.save_as_table(\n",
    "    \"portal_communications\",\n",
    "    portal_query,\n",
    "    model=\"gpt-4-turbo-preview\",\n",
    "    temperature=0.2,\n",
    "    max_tokens=1000,\n",
    "    overwrite=True,\n",
    ")"
   ]
  },
  {
   "cell_type": "markdown",
   "id": "e9c0b327",
   "metadata": {},
   "source": [
    "The results of this query, saved as the `portal_communications` table, contains the generated messages from patients to their healthcare providers.&#x20;\n",
    "\n",
    "And you are done! This is a good moment to go back to the Memex UI and explore all the data you created:\n",
    "\n",
    "<figure><img src=\"../.gitbook/assets/synthesize-patient-ui-2.png\" alt=\"\"><figcaption></figcaption></figure>\n"
   ]
  },
  {
   "cell_type": "markdown",
   "id": "201e88d1",
   "metadata": {},
   "source": [
    "***\n",
    "\n",
    "## Conclusion\n",
    "\n",
    "Let's put ourselves back in the shoes of the data scientist or engineer at the AI healthcare company. In just a couple of steps you were able to format patient histories, summarize medical records, and generate patient-specific communications.\n",
    "\n",
    "Well done!"
   ]
  }
 ],
 "metadata": {
  "kernelspec": {
   "display_name": "Python 3",
   "language": "python",
   "name": "python3"
  }
 },
 "nbformat": 4,
 "nbformat_minor": 5
}
